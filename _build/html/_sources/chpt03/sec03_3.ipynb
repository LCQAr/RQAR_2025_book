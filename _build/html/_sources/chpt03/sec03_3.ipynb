{
 "cells": [
  {
   "cell_type": "markdown",
   "id": "8f3200ea-e373-439e-a9ea-801c0ff49e4e",
   "metadata": {
    "editable": true,
    "slideshow": {
     "slide_type": ""
    },
    "tags": []
   },
   "source": [
    "## 3.3. Finalidade do monitoramento\n"
   ]
  },
  {
   "cell_type": "markdown",
   "id": "8f821255-fae1-495b-972e-bae532051cee",
   "metadata": {
    "editable": true,
    "slideshow": {
     "slide_type": ""
    },
    "tags": []
   },
   "source": [
    "**Figura com finalidade do monitoramento no espaço**\n",
    "\n",
    "**Tabela da finalidade do monitoramento por estado**"
   ]
  },
  {
   "cell_type": "code",
   "execution_count": null,
   "id": "ed49728e-2e17-4331-82b8-583d74d9d090",
   "metadata": {},
   "outputs": [],
   "source": []
  }
 ],
 "metadata": {
  "kernelspec": {
   "display_name": "Python 3 (ipykernel)",
   "language": "python",
   "name": "python3"
  },
  "language_info": {
   "codemirror_mode": {
    "name": "ipython",
    "version": 3
   },
   "file_extension": ".py",
   "mimetype": "text/x-python",
   "name": "python",
   "nbconvert_exporter": "python",
   "pygments_lexer": "ipython3",
   "version": "3.13.5"
  }
 },
 "nbformat": 4,
 "nbformat_minor": 5
}
