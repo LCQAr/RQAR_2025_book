{
 "cells": [
  {
   "cell_type": "markdown",
   "id": "6302c1f5-d62f-4d0f-9132-4f6360a7ef4b",
   "metadata": {},
   "source": [
    "## 3.4. Cobertura do monitoramento da qualidade do ar"
   ]
  },
  {
   "cell_type": "markdown",
   "id": "420010c5-ae2f-46e2-a580-8637acc34d85",
   "metadata": {},
   "source": [
    "### 3.4.1. Representatividade espacial das estações"
   ]
  },
  {
   "cell_type": "markdown",
   "id": "7ecacea9-4a46-4518-9c47-bf84fb89e172",
   "metadata": {},
   "source": [
    "### 3.4.2. Usos do solo monitorados"
   ]
  },
  {
   "cell_type": "markdown",
   "id": "66a2c04b-7edb-4adf-907e-40d4ad4da2b1",
   "metadata": {},
   "source": [
    "### 3.4.3. Cobertura populacional"
   ]
  },
  {
   "cell_type": "code",
   "execution_count": null,
   "id": "8345d213-3ea9-45ed-8804-d685a645d726",
   "metadata": {},
   "outputs": [],
   "source": []
  }
 ],
 "metadata": {
  "kernelspec": {
   "display_name": "Python 3 (ipykernel)",
   "language": "python",
   "name": "python3"
  },
  "language_info": {
   "codemirror_mode": {
    "name": "ipython",
    "version": 3
   },
   "file_extension": ".py",
   "mimetype": "text/x-python",
   "name": "python",
   "nbconvert_exporter": "python",
   "pygments_lexer": "ipython3",
   "version": "3.13.5"
  }
 },
 "nbformat": 4,
 "nbformat_minor": 5
}
