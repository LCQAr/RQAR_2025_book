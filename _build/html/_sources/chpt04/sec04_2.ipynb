{
 "cells": [
  {
   "cell_type": "markdown",
   "id": "90f495c8-03d0-4afe-925e-a21e24745d70",
   "metadata": {},
   "source": [
    "## 4.2. Análise de tendências e sazonalidade da qualidade do ar no Brasil - CAMILO"
   ]
  },
  {
   "cell_type": "markdown",
   "id": "b0f5fb70-fb03-46aa-b80d-19b303868e65",
   "metadata": {},
   "source": [
    "        Tabela com estatísticas da população exposta para cada padrão de qualidade do ar por estado\n",
    "\n",
    "        Tabela iterativa por estação de monitoramento e cidade\n"
   ]
  },
  {
   "cell_type": "markdown",
   "id": "a08a03ef-1d96-4798-b28c-235862380b97",
   "metadata": {},
   "source": [
    "TENDÊNCIA - APENAS ESTAÇÕES COM MAIS DE 5 ANOS DE DADOS VÁLIDOS EM PERCENTUAL\n",
    "\n",
    "SAZONALIDADE - APENAS ESTAÇÕES COM TODOS OS MESES VÁLIDOS EM ALGUM ANO MONITORADO"
   ]
  },
  {
   "cell_type": "code",
   "execution_count": null,
   "id": "9e1a2fb2-c76c-4a64-a7c1-36b85de33ab4",
   "metadata": {},
   "outputs": [],
   "source": []
  }
 ],
 "metadata": {
  "kernelspec": {
   "display_name": "Python 3 (ipykernel)",
   "language": "python",
   "name": "python3"
  },
  "language_info": {
   "codemirror_mode": {
    "name": "ipython",
    "version": 3
   },
   "file_extension": ".py",
   "mimetype": "text/x-python",
   "name": "python",
   "nbconvert_exporter": "python",
   "pygments_lexer": "ipython3",
   "version": "3.13.5"
  }
 },
 "nbformat": 4,
 "nbformat_minor": 5
}
