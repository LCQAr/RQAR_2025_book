{
 "cells": [
  {
   "cell_type": "markdown",
   "id": "d0bc4583",
   "metadata": {},
   "source": [
    "# 4.1.\tSéries temporais das concentrações de poluentes atmosféricos no Brasil"
   ]
  },
  {
   "cell_type": "code",
   "execution_count": null,
   "id": "6efab475",
   "metadata": {},
   "outputs": [],
   "source": []
  }
 ],
 "metadata": {
  "jupytext": {
   "formats": "md:myst",
   "text_representation": {
    "extension": ".md",
    "format_name": "myst",
    "format_version": 0.13,
    "jupytext_version": "1.17.2"
   }
  },
  "kernelspec": {
   "display_name": "Python 3 (ipykernel)",
   "language": "python",
   "name": "python3"
  },
  "language_info": {
   "codemirror_mode": {
    "name": "ipython",
    "version": 3
   },
   "file_extension": ".py",
   "mimetype": "text/x-python",
   "name": "python",
   "nbconvert_exporter": "python",
   "pygments_lexer": "ipython3",
   "version": "3.13.5"
  },
  "source_map": [
   13,
   17
  ]
 },
 "nbformat": 4,
 "nbformat_minor": 5
}