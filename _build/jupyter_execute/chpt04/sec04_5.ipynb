{
 "cells": [
  {
   "cell_type": "markdown",
   "id": "90f495c8-03d0-4afe-925e-a21e24745d70",
   "metadata": {},
   "source": [
    "## 4.5.\tSíntese das observações da qualidade do ar por região"
   ]
  },
  {
   "cell_type": "markdown",
   "id": "e66ceb9b-ace3-4153-bcc6-8a0db234646d",
   "metadata": {},
   "source": [
    "        Análise de tendência por estação TABELA ITERATIVA ONDE O USUÁRIO POSSA FILTRAR AS ESTAÇÕES\n",
    "    \n",
    "        Análise de tendência por estado TABELA GERAL\n",
    "\n",
    "        Figura com tendência por estação no mapa. Pintar bolinhas de acordo com o valor da tendência Mann Kendall.\n",
    "\n",
    "        Figura com sazonalidade por estação no mapa. Pintar bolinhas de acordo com o valor da sazonalidade - indice de Markhan."
   ]
  },
  {
   "cell_type": "code",
   "execution_count": null,
   "id": "10628dd7-70ff-4832-a819-9d3287867752",
   "metadata": {},
   "outputs": [],
   "source": []
  }
 ],
 "metadata": {
  "kernelspec": {
   "display_name": "Python 3 (ipykernel)",
   "language": "python",
   "name": "python3"
  },
  "language_info": {
   "codemirror_mode": {
    "name": "ipython",
    "version": 3
   },
   "file_extension": ".py",
   "mimetype": "text/x-python",
   "name": "python",
   "nbconvert_exporter": "python",
   "pygments_lexer": "ipython3",
   "version": "3.13.5"
  }
 },
 "nbformat": 4,
 "nbformat_minor": 5
}