{
 "cells": [
  {
   "cell_type": "markdown",
   "id": "90f495c8-03d0-4afe-925e-a21e24745d70",
   "metadata": {},
   "source": [
    "## 4.5.\tInterface com saúde  ANO QUE VEM – metodologia GARSC"
   ]
  },
  {
   "cell_type": "markdown",
   "id": "f6cadbdc-431b-42f1-98ce-82362123c0ec",
   "metadata": {},
   "source": [
    "        Síntese por região - texto / tabela estática\n",
    "    \n",
    "        Interface com saúde  ANO QUE VEM – metodologia GARSC "
   ]
  },
  {
   "cell_type": "code",
   "execution_count": null,
   "id": "fddfafca-874e-415e-b013-98d42393c235",
   "metadata": {},
   "outputs": [],
   "source": []
  }
 ],
 "metadata": {
  "kernelspec": {
   "display_name": "Python 3 (ipykernel)",
   "language": "python",
   "name": "python3"
  },
  "language_info": {
   "codemirror_mode": {
    "name": "ipython",
    "version": 3
   },
   "file_extension": ".py",
   "mimetype": "text/x-python",
   "name": "python",
   "nbconvert_exporter": "python",
   "pygments_lexer": "ipython3",
   "version": "3.13.5"
  }
 },
 "nbformat": 4,
 "nbformat_minor": 5
}