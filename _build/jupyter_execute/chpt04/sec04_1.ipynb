{
 "cells": [
  {
   "cell_type": "markdown",
   "id": "90f495c8-03d0-4afe-925e-a21e24745d70",
   "metadata": {},
   "source": [
    "## 4.1.\tViolações dos padrões de qualidade ar no Brasil\n",
    "\n"
   ]
  },
  {
   "cell_type": "markdown",
   "id": "d1dea532-17f1-4f0b-b9a5-05f94d3352b4",
   "metadata": {},
   "source": [
    "### 4.1.1\tSéries temporais das estações de monitoramento\n"
   ]
  },
  {
   "cell_type": "markdown",
   "id": "68ae36aa-f0e0-4d91-9972-469201694156",
   "metadata": {},
   "source": [
    "**TENTAR FAZER UM DROPDOWN MENU PARA ESCOLHER QUAL SÉRIE TEMPORAL VISUALIZAR NO LIVRO. Colocar padrões da CONAMA**\n",
    "\n",
    "ou Figura 5 – Perfil temporal das médias diárias de a) MP10, b) MP2,5 e c) O3 nas estações Volta da Capela (Barra Longa – MG) e Vila Moema (Tubarão – SC) no ano de 2023.\n"
   ]
  },
  {
   "cell_type": "markdown",
   "id": "109ba38d-7698-4cfe-9228-a02623a7b2f6",
   "metadata": {},
   "source": [
    "### 4.1.2\tEstatísticas das estações de monitoramento \n"
   ]
  },
  {
   "cell_type": "markdown",
   "id": "0969ef8a-ea6a-4bc9-839d-a9a134ae5326",
   "metadata": {},
   "source": [
    "**TENTAR FAZER UMA TABELA ITERATIVA ONDE O USUÁRIO POSSA FILTRAR AS ESTAÇÕES E NÚMERO DE VIOLAÇÕES**  \n",
    "ou Tabela 10 – Ranqueamento das cinco estações com o maior número de violações dos Padrões de Qualidade do Ar de O 3, MP10, MP2,5 e SO2 no ano de 2023."
   ]
  },
  {
   "cell_type": "markdown",
   "id": "34ae26df-c22f-4214-a3ad-708554f83f0d",
   "metadata": {
    "editable": true,
    "slideshow": {
     "slide_type": ""
    },
    "tags": []
   },
   "source": [
    "```{note}\n",
    "Here is a note\n",
    "```\n",
    "\n",
    "```{warning}\n",
    "Here is a warning\n",
    "```\n",
    "\n",
    "```{important}\n",
    "Here is a important\n",
    "```\n",
    "\n",
    "```{caution}\n",
    "Here is a caution\n",
    "```\n",
    "\n",
    "```{tip}\n",
    "Here is a tip\n",
    "```"
   ]
  },
  {
   "cell_type": "code",
   "execution_count": null,
   "id": "4eb2895f-17ac-4c60-ad1b-c95ee1740a7e",
   "metadata": {},
   "outputs": [],
   "source": []
  }
 ],
 "metadata": {
  "kernelspec": {
   "display_name": "Python 3 (ipykernel)",
   "language": "python",
   "name": "python3"
  },
  "language_info": {
   "codemirror_mode": {
    "name": "ipython",
    "version": 3
   },
   "file_extension": ".py",
   "mimetype": "text/x-python",
   "name": "python",
   "nbconvert_exporter": "python",
   "pygments_lexer": "ipython3",
   "version": "3.13.5"
  }
 },
 "nbformat": 4,
 "nbformat_minor": 5
}