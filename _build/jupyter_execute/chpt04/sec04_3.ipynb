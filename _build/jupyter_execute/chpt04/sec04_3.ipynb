{
 "cells": [
  {
   "cell_type": "markdown",
   "id": "90f495c8-03d0-4afe-925e-a21e24745d70",
   "metadata": {},
   "source": [
    "# 4.3.\tViolações dos padrões de qualidade do ar no Brasil "
   ]
  },
  {
   "cell_type": "markdown",
   "id": "7141dc83-bc60-4d35-9747-e677ea12efaf",
   "metadata": {},
   "source": [
    "Tabela 10 – Ranqueamento das cinco estações com o maior número de violações dos Padrões de Qualidade do Ar de O 3, MP10, MP2,5 e SO2 no ano de 2023. \n",
    "    TENTAR FAZER UMA TABELA ITERATIVA ONDE O USUÁRIO POSSA FILTRAR AS ESTAÇÕES\n",
    "\n",
    "    TENTAR FAZER UM DROPDOWN MENU PARA ESCOLHER QUAL SÉRIE TEMPORAL VISUALIZAR NO LIVRO. Colocar padrões da CONAMA. "
   ]
  },
  {
   "cell_type": "code",
   "execution_count": 1,
   "id": "ea6ac09c-0802-4cbb-b28f-1998b93b9abc",
   "metadata": {},
   "outputs": [
    {
     "data": {
      "application/vnd.jupyter.widget-view+json": {
       "model_id": "32a4b538fe024003b114b4aa5b2419c1",
       "version_major": 2,
       "version_minor": 0
      },
      "text/plain": [
       "HBox(children=(DatePicker(value=datetime.date(2025, 1, 1), description='Start:', step=1), DatePicker(value=dat…"
      ]
     },
     "metadata": {},
     "output_type": "display_data"
    },
    {
     "data": {
      "application/vnd.jupyter.widget-view+json": {
       "model_id": "bd89729d9bf74f7e82e26c8c81ea6816",
       "version_major": 2,
       "version_minor": 0
      },
      "text/plain": [
       "Output()"
      ]
     },
     "metadata": {},
     "output_type": "display_data"
    },
    {
     "data": {
      "application/vnd.jupyter.widget-view+json": {
       "model_id": "cd080c07fbc94816b8d6c2b4d63d40ce",
       "version_major": 2,
       "version_minor": 0
      },
      "text/plain": [
       "Output()"
      ]
     },
     "metadata": {},
     "output_type": "display_data"
    },
    {
     "data": {
      "application/vnd.jupyter.widget-view+json": {
       "model_id": "8a35e07db325406fb5716d2a5b208a65",
       "version_major": 2,
       "version_minor": 0
      },
      "text/plain": [
       "Button(button_style='success', description='Download CSV', disabled=True, style=ButtonStyle())"
      ]
     },
     "metadata": {},
     "output_type": "display_data"
    },
    {
     "data": {
      "application/vnd.jupyter.widget-view+json": {
       "model_id": "a2b3e3b7bdc14d998d79120b5ff6556f",
       "version_major": 2,
       "version_minor": 0
      },
      "text/plain": [
       "Output()"
      ]
     },
     "metadata": {},
     "output_type": "display_data"
    }
   ],
   "source": [
    "import pandas as pd\n",
    "import ipywidgets as widgets\n",
    "from IPython.display import display, clear_output, HTML\n",
    "from itables import show\n",
    "import itables.options as opt\n",
    "import base64\n",
    "from io import BytesIO\n",
    "import matplotlib.pyplot as plt\n",
    "import numpy as np\n",
    "from plotly.subplots import make_subplots\n",
    "import plotly.graph_objects as go\n",
    "\n",
    "# Setup itables\n",
    "opt.lengthMenu = [10, 25, 50, 100]\n",
    "opt.scrollX = True\n",
    "opt.columnDefs = [{\"className\": \"dt-center\", \"targets\": \"_all\"}]\n",
    "\n",
    "# Sample Data\n",
    "df = pd.read_csv('https://lcqar.ufsc.br/files/RS0009_MP10.csv')\n",
    "\n",
    "# Widgets\n",
    "start_date = widgets.DatePicker(description='Start:', value=pd.to_datetime(\"2025-01-01\").date())\n",
    "end_date = widgets.DatePicker(description='End:', value=pd.to_datetime(\"2025-04-01\").date())\n",
    "\n",
    "filter_button = widgets.Button(description=\"Filter\", button_style='primary')\n",
    "csv_button = widgets.Button(description=\"Download CSV\", button_style='success', disabled=True)\n",
    "\n",
    "output_table = widgets.Output()\n",
    "output_download = widgets.Output()\n",
    "output_plot = widgets.Output()\n",
    "\n",
    "\n",
    "\n",
    "def tratar_dados(df):\n",
    "    df['datetime'] = pd.to_datetime({\n",
    "      'year': df['ANO'],\n",
    "      'month': df['MES'],\n",
    "      'day': df['DIA'],\n",
    "      'hour': pd.to_datetime(df['HORA'], format='%H:%M:%S').dt.hour\n",
    "    })\n",
    "    # Substitui , por . \n",
    "    df['VALOR'] = df['VALOR'].replace(',', '.', regex=True).copy()\n",
    "    # Converte para float, forçando erro para NaN\n",
    "    df['VALOR'] = pd.to_numeric(df['VALOR'], errors='coerce').copy()\n",
    "    # Transforma valores negativos em NaN\n",
    "    df.loc[df['VALOR'] < 0, 'VALOR'] = np.nan\n",
    "    time_range = pd.date_range(df['datetime'].min(), df['datetime'].max(), freq='h').to_series(name='datetime')\n",
    "    df = pd.merge(time_range, df,how='left')\n",
    "    #df = df.set_index('datetime', drop=False)\n",
    "    df['datetime'] = pd.to_datetime(df['datetime']).copy()\n",
    "    return df\n",
    "    \n",
    "df = tratar_dados(df)\n",
    "filtered_df = df.copy()\n",
    "\n",
    "def split_nan_segments(x, y):\n",
    "    \"\"\"Splits x and y into segments where y is not NaN\"\"\"\n",
    "    segments = []\n",
    "    x = np.array(x)\n",
    "    y = np.array(y)\n",
    "    \n",
    "    isnan = np.isnan(y)\n",
    "    start = 0\n",
    "    for i in range(1, len(y)):\n",
    "        if isnan[i] and not isnan[i-1]:\n",
    "            segments.append((x[start:i], y[start:i]))\n",
    "            start = i + 1\n",
    "        elif not isnan[i] and isnan[i-1]:\n",
    "            start = i\n",
    "    if not isnan[-1]:\n",
    "        segments.append((x[start:], y[start:]))\n",
    "    return segments\n",
    "def iterative_raw_timeseries(df):\n",
    "    df = tratar_dados(df)\n",
    "    dates = df['datetime']\n",
    "    # Create the figure\n",
    "    #fig = go.Figure()\n",
    "    fig = make_subplots(rows=1, cols=1) \n",
    "    # raw\n",
    "    segments = split_nan_segments(df['datetime'], df.VALOR)\n",
    "    for seg_x, seg_y in segments:\n",
    "        fig.add_trace(go.Scatter(\n",
    "            x=seg_x,\n",
    "            y=seg_y,\n",
    "            #fill='tozeroy',\n",
    "            line=dict(color='rgba(153, 153, 255, 1)', width=1),\n",
    "            #fillcolor='rgba(255,255,255,1)',\n",
    "            #fillcolor='rgba(153, 153, 255,0.1)',\n",
    "            showlegend=False,\n",
    "            name='Série temporal',\n",
    "            mode='lines',\n",
    "            connectgaps=False\n",
    "        ))\n",
    "    # Update layout for better presentation\n",
    "    fig.update_layout(\n",
    "        title='Série temporal',\n",
    "        hovermode='x unified', # Shows hover info for all traces at a given x-coordinate\n",
    "        height=600, width=800,\n",
    "        plot_bgcolor='rgba(0.9,0.9,0.9,0.2)')\n",
    "    unidade = '(ug/m³)'\n",
    "    fig.update_yaxes(title_text=\"Concentração<br>Série completa\"+unidade, row=5, col=1)\n",
    "    fig.update_xaxes(title_text=\"Dia/Mês/Ano Hora\")\n",
    "    return fig\n",
    "\n",
    "# Filter function\n",
    "def on_filter_clicked(_):\n",
    "    global filtered_df\n",
    "    with output_table:\n",
    "        clear_output()\n",
    "        mask = (df['datetime'].dt.date >= start_date.value) & (df['datetime'].dt.date <= end_date.value)\n",
    "        filtered_df = df.loc[mask]\n",
    "        show(filtered_df)\n",
    "    \n",
    "    with output_plot:\n",
    "        clear_output()\n",
    "        if not filtered_df.empty:\n",
    "            #fig, ax = plt.subplots(figsize=(8, 3))\n",
    "            fig = iterative_raw_timeseries(df)\n",
    "            #ax.plot(filtered_df['datetime'], filtered_df['VALOR'], marker='o')\n",
    "            #ax.set_title(\"Filtered Series\")\n",
    "            #ax.set_xlabel(\"Date\")\n",
    "            #ax.set_ylabel(\"Value\")\n",
    "            #ax.grid(True)\n",
    "            #plt.xticks(rotation=45)\n",
    "            #plt.tight_layout()\n",
    "            display(fig)\n",
    "    \n",
    "    csv_button.disabled = filtered_df.empty\n",
    "\n",
    "# CSV download function\n",
    "def on_csv_clicked(_):\n",
    "    with output_download:\n",
    "        clear_output()\n",
    "        csv_buffer = BytesIO()\n",
    "        filtered_df.to_csv(csv_buffer, index=False)\n",
    "        b64 = base64.b64encode(csv_buffer.getvalue()).decode()\n",
    "        filename = \"filtered_data.csv\"\n",
    "        payload = f\"data:text/csv;base64,{b64}\"\n",
    "        html = f\"\"\"\n",
    "        <html>\n",
    "        <body>\n",
    "        <a id=\"download_link\" download=\"{filename}\" href=\"{payload}\"></a>\n",
    "        <script>document.getElementById('download_link').click();</script>\n",
    "        </body>\n",
    "        </html>\n",
    "        \"\"\"\n",
    "        display(HTML(html))\n",
    "\n",
    "# Bind buttons\n",
    "filter_button.on_click(on_filter_clicked)\n",
    "csv_button.on_click(on_csv_clicked)\n",
    "\n",
    "# Layout\n",
    "ui = widgets.HBox([start_date, end_date, filter_button])\n",
    "display(ui, output_table, output_plot, csv_button, output_download)\n"
   ]
  },
  {
   "cell_type": "code",
   "execution_count": 2,
   "id": "4d51292d-2c99-4bd8-b0a5-c4375c752fcc",
   "metadata": {},
   "outputs": [
    {
     "data": {
      "application/vnd.jupyter.widget-view+json": {
       "model_id": "f59c1e9070354dbca5e6f718e9a16415",
       "version_major": 2,
       "version_minor": 0
      },
      "text/plain": [
       "HBox(children=(Dropdown(description='Station:', options=('BA0007RA004',), value='BA0007RA004'), Dropdown(descr…"
      ]
     },
     "metadata": {},
     "output_type": "display_data"
    },
    {
     "data": {
      "application/vnd.jupyter.widget-view+json": {
       "model_id": "23683aecf05c47e39f7407d1bf9998d0",
       "version_major": 2,
       "version_minor": 0
      },
      "text/plain": [
       "HBox(children=(DatePicker(value=None, description='Start date:', step=1), DatePicker(value=None, description='…"
      ]
     },
     "metadata": {},
     "output_type": "display_data"
    },
    {
     "data": {
      "application/vnd.jupyter.widget-view+json": {
       "model_id": "8bb42bd148d248e4a24ceb2561e22e13",
       "version_major": 2,
       "version_minor": 0
      },
      "text/plain": [
       "Output()"
      ]
     },
     "metadata": {},
     "output_type": "display_data"
    },
    {
     "data": {
      "application/vnd.jupyter.widget-view+json": {
       "model_id": "7892476e60d5483ea0d88028027604ab",
       "version_major": 2,
       "version_minor": 0
      },
      "text/plain": [
       "Output()"
      ]
     },
     "metadata": {},
     "output_type": "display_data"
    },
    {
     "data": {
      "application/vnd.jupyter.widget-view+json": {
       "model_id": "0353949b70a04ff5882267935b315bc5",
       "version_major": 2,
       "version_minor": 0
      },
      "text/plain": [
       "Output()"
      ]
     },
     "metadata": {},
     "output_type": "display_data"
    },
    {
     "data": {
      "application/vnd.jupyter.widget-view+json": {
       "model_id": "ffcc2d68aeb84fdd973e26d40aefa00b",
       "version_major": 2,
       "version_minor": 0
      },
      "text/plain": [
       "HBox(children=(Button(button_style='success', description='Download Filtered CSV', disabled=True, style=Button…"
      ]
     },
     "metadata": {},
     "output_type": "display_data"
    },
    {
     "data": {
      "application/vnd.jupyter.widget-view+json": {
       "model_id": "da20502465ed4789a4e59ce7647c545e",
       "version_major": 2,
       "version_minor": 0
      },
      "text/plain": [
       "Output()"
      ]
     },
     "metadata": {},
     "output_type": "display_data"
    }
   ],
   "source": [
    "import pandas as pd\n",
    "import ipywidgets as widgets\n",
    "from IPython.display import display, clear_output, HTML\n",
    "from itables import show\n",
    "import itables.options as opt\n",
    "import base64\n",
    "from io import BytesIO\n",
    "import matplotlib.pyplot as plt\n",
    "import os\n",
    "import numpy as np\n",
    "from plotly.subplots import make_subplots\n",
    "import plotly.graph_objects as go\n",
    "\n",
    "# Configure itables\n",
    "opt.lengthMenu = [10, 25, 50, 100]\n",
    "opt.scrollX = True\n",
    "\n",
    "# Settings\n",
    "DATA_FOLDER = 'https://lcqar.ufsc.br/files/2023'  # adjust as needed\n",
    "\n",
    "# Caminho para a pasta de dados\n",
    "rootPath = os.path.dirname(os.getcwd())\n",
    "\n",
    "# Lendo o csv\n",
    "aqmData = pd.read_csv(rootPath+'/data/Monitoramento_QAr_BR_teste.csv',encoding = 'unicode_escape')\n",
    "\n",
    "# Create dict: station -> list of pollutants\n",
    "station_pollutants = aqmData.groupby(\"ID_MMA\")[\"POLUENTE\"].unique().apply(list).to_dict()\n",
    "# Set station list\n",
    "AVAILABLE_STATIONS = sorted(station_pollutants.keys())\n",
    "\n",
    "# Widgets\n",
    "station_dropdown = widgets.Dropdown(options=AVAILABLE_STATIONS, description='Station:')\n",
    "pollutant_dropdown = widgets.Dropdown(description='Pollutant:')\n",
    "load_button = widgets.Button(description=\"Load CSV\", button_style='primary')\n",
    "start_date = widgets.DatePicker(description='Start date:')\n",
    "end_date = widgets.DatePicker(description='End date:')\n",
    "filter_button = widgets.Button(description=\"Apply Filter\", button_style='info', disabled=True)\n",
    "csv_button = widgets.Button(description=\"Download Filtered CSV\", button_style='success', disabled=True)\n",
    "\n",
    "# Output widgets\n",
    "output_error = widgets.Output()\n",
    "output_table = widgets.Output()\n",
    "output_plot = widgets.Output()\n",
    "output_download = widgets.Output()\n",
    "\n",
    "# DataFrames\n",
    "loaded_df = pd.DataFrame()\n",
    "filtered_df = pd.DataFrame()\n",
    "\n",
    "def tratar_dados(df):\n",
    "    # Convert all to string first\n",
    "    hour_str = df['HORA'].astype(str)\n",
    "\n",
    "    # Now parse hours and minutes from string\n",
    "    def parse_hour_minute(val):\n",
    "        if ':' in val:\n",
    "            parts = val.split(':')\n",
    "            return int(parts[0]), int(parts[1])\n",
    "        else:\n",
    "            # If float stored as string, convert to float and extract hour/min\n",
    "            f = float(val)\n",
    "            hour = int(f)\n",
    "            minute = int(round((f - hour) * 60))\n",
    "            return hour, minute\n",
    "\n",
    "    parsed = hour_str.apply(parse_hour_minute)\n",
    "    df['HORA'] = parsed.apply(lambda x: x[0])\n",
    "\n",
    "\n",
    "    df['datetime'] = pd.to_datetime({\n",
    "      'year': df['ANO'],\n",
    "      'month': df['MES'],\n",
    "      'day': df['DIA'],\n",
    "      'hour': df['HORA'],        \n",
    "    }, errors='coerce')\n",
    "    # Substitui , por . \n",
    "    df['VALOR'] = df['VALOR'].replace(',', '.', regex=True).copy()\n",
    "    # Converte para float, forçando erro para NaN\n",
    "    df['VALOR'] = pd.to_numeric(df['VALOR'], errors='coerce').copy()\n",
    "    # Transforma valores negativos em NaN\n",
    "    df.loc[df['VALOR'] < 0, 'VALOR'] = np.nan\n",
    "    print(df)\n",
    "    time_range = pd.date_range(df['datetime'].min(), df['datetime'].max(), freq='h').to_series(name='datetime')\n",
    "    df = pd.merge(time_range, df,how='left')\n",
    "    #df = df.set_index('datetime', drop=False)\n",
    "    df['datetime'] = pd.to_datetime(df['datetime']).copy()\n",
    "    return df\n",
    "    \n",
    "def split_nan_segments(x, y):\n",
    "    \"\"\"Splits x and y into segments where y is not NaN\"\"\"\n",
    "    segments = []\n",
    "    x = np.array(x)\n",
    "    y = np.array(y)\n",
    "    \n",
    "    isnan = np.isnan(y)\n",
    "    start = 0\n",
    "    for i in range(1, len(y)):\n",
    "        if isnan[i] and not isnan[i-1]:\n",
    "            segments.append((x[start:i], y[start:i]))\n",
    "            start = i + 1\n",
    "        elif not isnan[i] and isnan[i-1]:\n",
    "            start = i\n",
    "    if not isnan[-1]:\n",
    "        segments.append((x[start:], y[start:]))\n",
    "    return segments\n",
    "def iterative_raw_timeseries(df):\n",
    "    df = tratar_dados(df)\n",
    "    dates = df['datetime']\n",
    "    # Create the figure\n",
    "    #fig = go.Figure()\n",
    "    fig = make_subplots(rows=1, cols=1) \n",
    "    # raw\n",
    "    segments = split_nan_segments(df['datetime'], df.VALOR)\n",
    "    for seg_x, seg_y in segments:\n",
    "        fig.add_trace(go.Scatter(\n",
    "            x=seg_x,\n",
    "            y=seg_y,\n",
    "            #fill='tozeroy',\n",
    "            line=dict(color='rgba(153, 153, 255, 1)', width=1),\n",
    "            #fillcolor='rgba(255,255,255,1)',\n",
    "            #fillcolor='rgba(153, 153, 255,0.1)',\n",
    "            showlegend=False,\n",
    "            name='Série temporal',\n",
    "            mode='lines',\n",
    "            connectgaps=False\n",
    "        ))\n",
    "    # Update layout for better presentation\n",
    "    fig.update_layout(\n",
    "        title='Série temporal',\n",
    "        hovermode='x unified', # Shows hover info for all traces at a given x-coordinate\n",
    "        height=600, width=800,\n",
    "        plot_bgcolor='rgba(0.9,0.9,0.9,0.2)')\n",
    "    unidade = '(ug/m³)'\n",
    "    fig.update_yaxes(title_text=\"Concentração<br>Série completa\"+unidade, row=5, col=1)\n",
    "    fig.update_xaxes(title_text=\"Dia/Mês/Ano Hora\")\n",
    "    return fig\n",
    "\n",
    "def update_pollutants(change):\n",
    "    # Get current station from widget (robust to both observer and manual call)\n",
    "    selected_station = change['new'] if isinstance(change, dict) else station_dropdown.value\n",
    "    \n",
    "    # Get corresponding pollutants\n",
    "    new_pollutants = station_pollutants.get(selected_station, [])\n",
    "    \n",
    "    # Save old value to restore if possible\n",
    "    old_value = pollutant_dropdown.value\n",
    "\n",
    "    # Update options with a *copy* to force change detection\n",
    "    pollutant_dropdown.options = list(new_pollutants)\n",
    "    \n",
    "    # Set default or preserve old value if valid\n",
    "    if old_value in new_pollutants:\n",
    "        pollutant_dropdown.value = old_value\n",
    "    elif new_pollutants:\n",
    "        pollutant_dropdown.value = new_pollutants[0]\n",
    "    else:\n",
    "        pollutant_dropdown.value = None\n",
    "# Function to update UI outputs (table, plot)\n",
    "def update_outputs():\n",
    "    with output_table:\n",
    "        clear_output()\n",
    "        show(filtered_df)\n",
    "    with output_plot:\n",
    "        clear_output()\n",
    "        if not filtered_df.empty and 'datetime' in filtered_df.columns:\n",
    "            fig = iterative_raw_timeseries(filtered_df)\n",
    "            display(fig)\n",
    "    csv_button.disabled = filtered_df.empty\n",
    "\n",
    "# Load button action\n",
    "def on_load_clicked(_):\n",
    "    global loaded_df, filtered_df\n",
    "    with output_error, output_table, output_plot, output_download:\n",
    "        clear_output()\n",
    "        station = station_dropdown.value\n",
    "        pollutant = pollutant_dropdown.value\n",
    "        filename = f\"{station}.csv\"\n",
    "        filepath = os.path.join(DATA_FOLDER+'/'+pollutant+'/', filename)\n",
    "        \n",
    "        loaded_df = pd.read_csv(filepath)\n",
    "        loaded_df = tratar_dados(loaded_df)\n",
    "        \n",
    "        filtered_df[:] = loaded_df.copy()\n",
    "\n",
    "        if not loaded_df.empty and 'datetime' in loaded_df.columns:\n",
    "            start_date.value = loaded_df['datetime'].min().date()\n",
    "            end_date.value = loaded_df['datetime'].max().date()\n",
    "\n",
    "        filter_button.disabled = False\n",
    "        update_outputs()\n",
    "\n",
    "# Date filter action\n",
    "def on_filter_clicked(_):\n",
    "    global filtered_df\n",
    "    if 'datetime' not in loaded_df.columns:\n",
    "        return\n",
    "    mask = (df['datetime'].dt.date >= start_date.value) & (df['datetime'].dt.date <= end_date.value)\n",
    "    filtered_df = df.loc[mask]\n",
    "    update_outputs()\n",
    "\n",
    "# CSV download button\n",
    "def on_csv_clicked(_):\n",
    "    with output_download:\n",
    "        clear_output()\n",
    "        csv_buffer = BytesIO()\n",
    "        filtered_df.to_csv(csv_buffer, index=False)\n",
    "        b64 = base64.b64encode(csv_buffer.getvalue()).decode()\n",
    "        filename = f\"{station_dropdown.value}_{pollutant_dropdown.value}_filtered.csv\"\n",
    "        payload = f\"data:text/csv;base64,{b64}\"\n",
    "        html = f\"\"\"\n",
    "        <a id=\"download_link\" download=\"{filename}\" href=\"{payload}\"></a>\n",
    "        <script>document.getElementById('download_link').click();</script>\n",
    "        \"\"\"\n",
    "        display(HTML(html))\n",
    "\n",
    "# Event bindings\n",
    "load_button.on_click(on_load_clicked)\n",
    "filter_button.on_click(on_filter_clicked)\n",
    "csv_button.on_click(on_csv_clicked)\n",
    "\n",
    "\n",
    "# Layout\n",
    "ui_select = widgets.HBox([station_dropdown, pollutant_dropdown, load_button])\n",
    "ui_dates = widgets.HBox([start_date, end_date, filter_button])\n",
    "ui_download = widgets.HBox([csv_button])\n",
    "\n",
    "station_dropdown.observe(update_pollutants, names='value')\n",
    "update_pollutants({'new': station_dropdown.value})  # Trigger initial update\n",
    "\n",
    "\n",
    "display(ui_select, ui_dates, output_error, output_table, output_plot, ui_download, output_download)"
   ]
  },
  {
   "cell_type": "code",
   "execution_count": 3,
   "id": "0da01e3c-9cb0-4b84-a8bd-0a0dbb8c8447",
   "metadata": {},
   "outputs": [
    {
     "data": {
      "application/vnd.plotly.v1+json": {
       "config": {
        "plotlyServerURL": "https://plot.ly"
       },
       "data": [
        {
         "mode": "lines",
         "name": "MP10_24h observado",
         "type": "scatter",
         "y": {
          "bdata": "ZwBWAGQALgB7ABoAHAA4ABcAMgA8ADEAVAAfADkAcQA1AEoAXwBDAGAAZgBjAIEARwA4AHEAbABgAH4A",
          "dtype": "i2"
         }
        }
       ],
       "layout": {
        "annotations": [
         {
          "showarrow": false,
          "text": "PI-1",
          "x": 1,
          "xanchor": "right",
          "xref": "x domain",
          "y": 110.0,
          "yanchor": "middle",
          "yref": "y"
         },
         {
          "showarrow": false,
          "text": "PI-2",
          "x": 1,
          "xanchor": "right",
          "xref": "x domain",
          "y": 87.5,
          "yanchor": "middle",
          "yref": "y"
         },
         {
          "showarrow": false,
          "text": "PI-3",
          "x": 1,
          "xanchor": "right",
          "xref": "x domain",
          "y": 62.5,
          "yanchor": "middle",
          "yref": "y"
         },
         {
          "showarrow": false,
          "text": "PI-4",
          "x": 1,
          "xanchor": "right",
          "xref": "x domain",
          "y": 47.5,
          "yanchor": "middle",
          "yref": "y"
         },
         {
          "showarrow": false,
          "text": "PF",
          "x": 1,
          "xanchor": "right",
          "xref": "x domain",
          "y": 22.5,
          "yanchor": "middle",
          "yref": "y"
         }
        ],
        "shapes": [
         {
          "fillcolor": "rgba(255,0,0,0.3)",
          "layer": "below",
          "line": {
           "width": 0
          },
          "type": "rect",
          "x0": 0,
          "x1": 1,
          "xref": "x domain",
          "y0": 100.0,
          "y1": 120.0,
          "yref": "y"
         },
         {
          "fillcolor": "rgba(255,165,0,0.3)",
          "layer": "below",
          "line": {
           "width": 0
          },
          "type": "rect",
          "x0": 0,
          "x1": 1,
          "xref": "x domain",
          "y0": 75.0,
          "y1": 100.0,
          "yref": "y"
         },
         {
          "fillcolor": "rgba(255,255,0,0.3)",
          "layer": "below",
          "line": {
           "width": 0
          },
          "type": "rect",
          "x0": 0,
          "x1": 1,
          "xref": "x domain",
          "y0": 50.0,
          "y1": 75.0,
          "yref": "y"
         },
         {
          "fillcolor": "rgba(144,238,144,0.3)",
          "layer": "below",
          "line": {
           "width": 0
          },
          "type": "rect",
          "x0": 0,
          "x1": 1,
          "xref": "x domain",
          "y0": 45.0,
          "y1": 50.0,
          "yref": "y"
         },
         {
          "fillcolor": "rgba(0,128,0,0.3)",
          "layer": "below",
          "line": {
           "width": 0
          },
          "type": "rect",
          "x0": 0,
          "x1": 1,
          "xref": "x domain",
          "y0": 0.0,
          "y1": 45.0,
          "yref": "y"
         }
        ],
        "template": {
         "data": {
          "bar": [
           {
            "error_x": {
             "color": "#2a3f5f"
            },
            "error_y": {
             "color": "#2a3f5f"
            },
            "marker": {
             "line": {
              "color": "#E5ECF6",
              "width": 0.5
             },
             "pattern": {
              "fillmode": "overlay",
              "size": 10,
              "solidity": 0.2
             }
            },
            "type": "bar"
           }
          ],
          "barpolar": [
           {
            "marker": {
             "line": {
              "color": "#E5ECF6",
              "width": 0.5
             },
             "pattern": {
              "fillmode": "overlay",
              "size": 10,
              "solidity": 0.2
             }
            },
            "type": "barpolar"
           }
          ],
          "carpet": [
           {
            "aaxis": {
             "endlinecolor": "#2a3f5f",
             "gridcolor": "white",
             "linecolor": "white",
             "minorgridcolor": "white",
             "startlinecolor": "#2a3f5f"
            },
            "baxis": {
             "endlinecolor": "#2a3f5f",
             "gridcolor": "white",
             "linecolor": "white",
             "minorgridcolor": "white",
             "startlinecolor": "#2a3f5f"
            },
            "type": "carpet"
           }
          ],
          "choropleth": [
           {
            "colorbar": {
             "outlinewidth": 0,
             "ticks": ""
            },
            "type": "choropleth"
           }
          ],
          "contour": [
           {
            "colorbar": {
             "outlinewidth": 0,
             "ticks": ""
            },
            "colorscale": [
             [
              0.0,
              "#0d0887"
             ],
             [
              0.1111111111111111,
              "#46039f"
             ],
             [
              0.2222222222222222,
              "#7201a8"
             ],
             [
              0.3333333333333333,
              "#9c179e"
             ],
             [
              0.4444444444444444,
              "#bd3786"
             ],
             [
              0.5555555555555556,
              "#d8576b"
             ],
             [
              0.6666666666666666,
              "#ed7953"
             ],
             [
              0.7777777777777778,
              "#fb9f3a"
             ],
             [
              0.8888888888888888,
              "#fdca26"
             ],
             [
              1.0,
              "#f0f921"
             ]
            ],
            "type": "contour"
           }
          ],
          "contourcarpet": [
           {
            "colorbar": {
             "outlinewidth": 0,
             "ticks": ""
            },
            "type": "contourcarpet"
           }
          ],
          "heatmap": [
           {
            "colorbar": {
             "outlinewidth": 0,
             "ticks": ""
            },
            "colorscale": [
             [
              0.0,
              "#0d0887"
             ],
             [
              0.1111111111111111,
              "#46039f"
             ],
             [
              0.2222222222222222,
              "#7201a8"
             ],
             [
              0.3333333333333333,
              "#9c179e"
             ],
             [
              0.4444444444444444,
              "#bd3786"
             ],
             [
              0.5555555555555556,
              "#d8576b"
             ],
             [
              0.6666666666666666,
              "#ed7953"
             ],
             [
              0.7777777777777778,
              "#fb9f3a"
             ],
             [
              0.8888888888888888,
              "#fdca26"
             ],
             [
              1.0,
              "#f0f921"
             ]
            ],
            "type": "heatmap"
           }
          ],
          "histogram": [
           {
            "marker": {
             "pattern": {
              "fillmode": "overlay",
              "size": 10,
              "solidity": 0.2
             }
            },
            "type": "histogram"
           }
          ],
          "histogram2d": [
           {
            "colorbar": {
             "outlinewidth": 0,
             "ticks": ""
            },
            "colorscale": [
             [
              0.0,
              "#0d0887"
             ],
             [
              0.1111111111111111,
              "#46039f"
             ],
             [
              0.2222222222222222,
              "#7201a8"
             ],
             [
              0.3333333333333333,
              "#9c179e"
             ],
             [
              0.4444444444444444,
              "#bd3786"
             ],
             [
              0.5555555555555556,
              "#d8576b"
             ],
             [
              0.6666666666666666,
              "#ed7953"
             ],
             [
              0.7777777777777778,
              "#fb9f3a"
             ],
             [
              0.8888888888888888,
              "#fdca26"
             ],
             [
              1.0,
              "#f0f921"
             ]
            ],
            "type": "histogram2d"
           }
          ],
          "histogram2dcontour": [
           {
            "colorbar": {
             "outlinewidth": 0,
             "ticks": ""
            },
            "colorscale": [
             [
              0.0,
              "#0d0887"
             ],
             [
              0.1111111111111111,
              "#46039f"
             ],
             [
              0.2222222222222222,
              "#7201a8"
             ],
             [
              0.3333333333333333,
              "#9c179e"
             ],
             [
              0.4444444444444444,
              "#bd3786"
             ],
             [
              0.5555555555555556,
              "#d8576b"
             ],
             [
              0.6666666666666666,
              "#ed7953"
             ],
             [
              0.7777777777777778,
              "#fb9f3a"
             ],
             [
              0.8888888888888888,
              "#fdca26"
             ],
             [
              1.0,
              "#f0f921"
             ]
            ],
            "type": "histogram2dcontour"
           }
          ],
          "mesh3d": [
           {
            "colorbar": {
             "outlinewidth": 0,
             "ticks": ""
            },
            "type": "mesh3d"
           }
          ],
          "parcoords": [
           {
            "line": {
             "colorbar": {
              "outlinewidth": 0,
              "ticks": ""
             }
            },
            "type": "parcoords"
           }
          ],
          "pie": [
           {
            "automargin": true,
            "type": "pie"
           }
          ],
          "scatter": [
           {
            "fillpattern": {
             "fillmode": "overlay",
             "size": 10,
             "solidity": 0.2
            },
            "type": "scatter"
           }
          ],
          "scatter3d": [
           {
            "line": {
             "colorbar": {
              "outlinewidth": 0,
              "ticks": ""
             }
            },
            "marker": {
             "colorbar": {
              "outlinewidth": 0,
              "ticks": ""
             }
            },
            "type": "scatter3d"
           }
          ],
          "scattercarpet": [
           {
            "marker": {
             "colorbar": {
              "outlinewidth": 0,
              "ticks": ""
             }
            },
            "type": "scattercarpet"
           }
          ],
          "scattergeo": [
           {
            "marker": {
             "colorbar": {
              "outlinewidth": 0,
              "ticks": ""
             }
            },
            "type": "scattergeo"
           }
          ],
          "scattergl": [
           {
            "marker": {
             "colorbar": {
              "outlinewidth": 0,
              "ticks": ""
             }
            },
            "type": "scattergl"
           }
          ],
          "scattermap": [
           {
            "marker": {
             "colorbar": {
              "outlinewidth": 0,
              "ticks": ""
             }
            },
            "type": "scattermap"
           }
          ],
          "scattermapbox": [
           {
            "marker": {
             "colorbar": {
              "outlinewidth": 0,
              "ticks": ""
             }
            },
            "type": "scattermapbox"
           }
          ],
          "scatterpolar": [
           {
            "marker": {
             "colorbar": {
              "outlinewidth": 0,
              "ticks": ""
             }
            },
            "type": "scatterpolar"
           }
          ],
          "scatterpolargl": [
           {
            "marker": {
             "colorbar": {
              "outlinewidth": 0,
              "ticks": ""
             }
            },
            "type": "scatterpolargl"
           }
          ],
          "scatterternary": [
           {
            "marker": {
             "colorbar": {
              "outlinewidth": 0,
              "ticks": ""
             }
            },
            "type": "scatterternary"
           }
          ],
          "surface": [
           {
            "colorbar": {
             "outlinewidth": 0,
             "ticks": ""
            },
            "colorscale": [
             [
              0.0,
              "#0d0887"
             ],
             [
              0.1111111111111111,
              "#46039f"
             ],
             [
              0.2222222222222222,
              "#7201a8"
             ],
             [
              0.3333333333333333,
              "#9c179e"
             ],
             [
              0.4444444444444444,
              "#bd3786"
             ],
             [
              0.5555555555555556,
              "#d8576b"
             ],
             [
              0.6666666666666666,
              "#ed7953"
             ],
             [
              0.7777777777777778,
              "#fb9f3a"
             ],
             [
              0.8888888888888888,
              "#fdca26"
             ],
             [
              1.0,
              "#f0f921"
             ]
            ],
            "type": "surface"
           }
          ],
          "table": [
           {
            "cells": {
             "fill": {
              "color": "#EBF0F8"
             },
             "line": {
              "color": "white"
             }
            },
            "header": {
             "fill": {
              "color": "#C8D4E3"
             },
             "line": {
              "color": "white"
             }
            },
            "type": "table"
           }
          ]
         },
         "layout": {
          "annotationdefaults": {
           "arrowcolor": "#2a3f5f",
           "arrowhead": 0,
           "arrowwidth": 1
          },
          "autotypenumbers": "strict",
          "coloraxis": {
           "colorbar": {
            "outlinewidth": 0,
            "ticks": ""
           }
          },
          "colorscale": {
           "diverging": [
            [
             0,
             "#8e0152"
            ],
            [
             0.1,
             "#c51b7d"
            ],
            [
             0.2,
             "#de77ae"
            ],
            [
             0.3,
             "#f1b6da"
            ],
            [
             0.4,
             "#fde0ef"
            ],
            [
             0.5,
             "#f7f7f7"
            ],
            [
             0.6,
             "#e6f5d0"
            ],
            [
             0.7,
             "#b8e186"
            ],
            [
             0.8,
             "#7fbc41"
            ],
            [
             0.9,
             "#4d9221"
            ],
            [
             1,
             "#276419"
            ]
           ],
           "sequential": [
            [
             0.0,
             "#0d0887"
            ],
            [
             0.1111111111111111,
             "#46039f"
            ],
            [
             0.2222222222222222,
             "#7201a8"
            ],
            [
             0.3333333333333333,
             "#9c179e"
            ],
            [
             0.4444444444444444,
             "#bd3786"
            ],
            [
             0.5555555555555556,
             "#d8576b"
            ],
            [
             0.6666666666666666,
             "#ed7953"
            ],
            [
             0.7777777777777778,
             "#fb9f3a"
            ],
            [
             0.8888888888888888,
             "#fdca26"
            ],
            [
             1.0,
             "#f0f921"
            ]
           ],
           "sequentialminus": [
            [
             0.0,
             "#0d0887"
            ],
            [
             0.1111111111111111,
             "#46039f"
            ],
            [
             0.2222222222222222,
             "#7201a8"
            ],
            [
             0.3333333333333333,
             "#9c179e"
            ],
            [
             0.4444444444444444,
             "#bd3786"
            ],
            [
             0.5555555555555556,
             "#d8576b"
            ],
            [
             0.6666666666666666,
             "#ed7953"
            ],
            [
             0.7777777777777778,
             "#fb9f3a"
            ],
            [
             0.8888888888888888,
             "#fdca26"
            ],
            [
             1.0,
             "#f0f921"
            ]
           ]
          },
          "colorway": [
           "#636efa",
           "#EF553B",
           "#00cc96",
           "#ab63fa",
           "#FFA15A",
           "#19d3f3",
           "#FF6692",
           "#B6E880",
           "#FF97FF",
           "#FECB52"
          ],
          "font": {
           "color": "#2a3f5f"
          },
          "geo": {
           "bgcolor": "white",
           "lakecolor": "white",
           "landcolor": "#E5ECF6",
           "showlakes": true,
           "showland": true,
           "subunitcolor": "white"
          },
          "hoverlabel": {
           "align": "left"
          },
          "hovermode": "closest",
          "mapbox": {
           "style": "light"
          },
          "paper_bgcolor": "white",
          "plot_bgcolor": "#E5ECF6",
          "polar": {
           "angularaxis": {
            "gridcolor": "white",
            "linecolor": "white",
            "ticks": ""
           },
           "bgcolor": "#E5ECF6",
           "radialaxis": {
            "gridcolor": "white",
            "linecolor": "white",
            "ticks": ""
           }
          },
          "scene": {
           "xaxis": {
            "backgroundcolor": "#E5ECF6",
            "gridcolor": "white",
            "gridwidth": 2,
            "linecolor": "white",
            "showbackground": true,
            "ticks": "",
            "zerolinecolor": "white"
           },
           "yaxis": {
            "backgroundcolor": "#E5ECF6",
            "gridcolor": "white",
            "gridwidth": 2,
            "linecolor": "white",
            "showbackground": true,
            "ticks": "",
            "zerolinecolor": "white"
           },
           "zaxis": {
            "backgroundcolor": "#E5ECF6",
            "gridcolor": "white",
            "gridwidth": 2,
            "linecolor": "white",
            "showbackground": true,
            "ticks": "",
            "zerolinecolor": "white"
           }
          },
          "shapedefaults": {
           "line": {
            "color": "#2a3f5f"
           }
          },
          "ternary": {
           "aaxis": {
            "gridcolor": "white",
            "linecolor": "white",
            "ticks": ""
           },
           "baxis": {
            "gridcolor": "white",
            "linecolor": "white",
            "ticks": ""
           },
           "bgcolor": "#E5ECF6",
           "caxis": {
            "gridcolor": "white",
            "linecolor": "white",
            "ticks": ""
           }
          },
          "title": {
           "x": 0.05
          },
          "xaxis": {
           "automargin": true,
           "gridcolor": "white",
           "linecolor": "white",
           "ticks": "",
           "title": {
            "standoff": 15
           },
           "zerolinecolor": "white",
           "zerolinewidth": 2
          },
          "yaxis": {
           "automargin": true,
           "gridcolor": "white",
           "linecolor": "white",
           "ticks": "",
           "title": {
            "standoff": 15
           },
           "zerolinecolor": "white",
           "zerolinewidth": 2
          }
         }
        },
        "title": {
         "text": "MP10_24h - Faixas CONAMA 506"
        },
        "yaxis": {
         "title": {
          "text": "µg/m³"
         }
        }
       }
      }
     },
     "metadata": {},
     "output_type": "display_data"
    }
   ],
   "source": [
    "import pandas as pd\n",
    "import plotly.graph_objects as go\n",
    "\n",
    "# lê o CSV\n",
    "df_fases = pd.read_csv(\"https://lcqar.ufsc.br/files/2023/fases_CONAMA506.csv\")\n",
    "\n",
    "# filtra para o poluente desejado\n",
    "poluente = \"MP10_24h\"\n",
    "df_pol = df_fases[df_fases[\"pollutant\"] == poluente]\n",
    "\n",
    "# cria figura\n",
    "fig = go.Figure()\n",
    "\n",
    "# adiciona faixas de cada fase\n",
    "for _, row in df_pol.iterrows():\n",
    "    fig.add_hrect(\n",
    "        y0=row[\"y0\"], y1=row[\"y1\"],\n",
    "        line_width=0,\n",
    "        fillcolor=row[\"color\"],\n",
    "        layer=\"below\",\n",
    "        annotation_text=row[\"phase\"],\n",
    "        annotation_position=\"right\"\n",
    "    )\n",
    "\n",
    "# exemplo: série fictícia de dados observados\n",
    "import numpy as np\n",
    "fig.add_scatter(\n",
    "    y=np.random.randint(20, 130, size=30),\n",
    "    mode='lines',\n",
    "    name=f\"{poluente} observado\"\n",
    ")\n",
    "\n",
    "fig.update_layout(\n",
    "    title=f\"{poluente} - Faixas CONAMA 506\",\n",
    "    yaxis_title=\"µg/m³\"\n",
    ")\n",
    "\n",
    "fig.show()"
   ]
  },
  {
   "cell_type": "code",
   "execution_count": null,
   "id": "df8a7610-1103-4138-89a0-3e674b703927",
   "metadata": {},
   "outputs": [],
   "source": []
  }
 ],
 "metadata": {
  "kernelspec": {
   "display_name": "Python 3 (ipykernel)",
   "language": "python",
   "name": "python3"
  },
  "language_info": {
   "codemirror_mode": {
    "name": "ipython",
    "version": 3
   },
   "file_extension": ".py",
   "mimetype": "text/x-python",
   "name": "python",
   "nbconvert_exporter": "python",
   "pygments_lexer": "ipython3",
   "version": "3.13.5"
  },
  "widgets": {
   "application/vnd.jupyter.widget-state+json": {
    "state": {
     "00f232ec32d74422a9336b2d6fd0b4ac": {
      "model_module": "@jupyter-widgets/controls",
      "model_module_version": "2.0.0",
      "model_name": "ButtonModel",
      "state": {
       "_dom_classes": [],
       "_model_module": "@jupyter-widgets/controls",
       "_model_module_version": "2.0.0",
       "_model_name": "ButtonModel",
       "_view_count": null,
       "_view_module": "@jupyter-widgets/controls",
       "_view_module_version": "2.0.0",
       "_view_name": "ButtonView",
       "button_style": "primary",
       "description": "Load CSV",
       "disabled": false,
       "icon": "",
       "layout": "IPY_MODEL_4da85b496fc645f7944836efe9d2149a",
       "style": "IPY_MODEL_435916c67af54bd5a1a3a5f9394645ee",
       "tabbable": null,
       "tooltip": null
      }
     },
     "0353949b70a04ff5882267935b315bc5": {
      "model_module": "@jupyter-widgets/output",
      "model_module_version": "1.0.0",
      "model_name": "OutputModel",
      "state": {
       "_dom_classes": [],
       "_model_module": "@jupyter-widgets/output",
       "_model_module_version": "1.0.0",
       "_model_name": "OutputModel",
       "_view_count": null,
       "_view_module": "@jupyter-widgets/output",
       "_view_module_version": "1.0.0",
       "_view_name": "OutputView",
       "layout": "IPY_MODEL_555c291aedda4355861b171f2dccf801",
       "msg_id": "",
       "outputs": [],
       "tabbable": null,
       "tooltip": null
      }
     },
     "0db776872b794cad9bc8e0c9c76dc3af": {
      "model_module": "@jupyter-widgets/base",
      "model_module_version": "2.0.0",
      "model_name": "LayoutModel",
      "state": {
       "_model_module": "@jupyter-widgets/base",
       "_model_module_version": "2.0.0",
       "_model_name": "LayoutModel",
       "_view_count": null,
       "_view_module": "@jupyter-widgets/base",
       "_view_module_version": "2.0.0",
       "_view_name": "LayoutView",
       "align_content": null,
       "align_items": null,
       "align_self": null,
       "border_bottom": null,
       "border_left": null,
       "border_right": null,
       "border_top": null,
       "bottom": null,
       "display": null,
       "flex": null,
       "flex_flow": null,
       "grid_area": null,
       "grid_auto_columns": null,
       "grid_auto_flow": null,
       "grid_auto_rows": null,
       "grid_column": null,
       "grid_gap": null,
       "grid_row": null,
       "grid_template_areas": null,
       "grid_template_columns": null,
       "grid_template_rows": null,
       "height": null,
       "justify_content": null,
       "justify_items": null,
       "left": null,
       "margin": null,
       "max_height": null,
       "max_width": null,
       "min_height": null,
       "min_width": null,
       "object_fit": null,
       "object_position": null,
       "order": null,
       "overflow": null,
       "padding": null,
       "right": null,
       "top": null,
       "visibility": null,
       "width": null
      }
     },
     "164dc2daf1a648ba9bbeaaf9145e7507": {
      "model_module": "@jupyter-widgets/base",
      "model_module_version": "2.0.0",
      "model_name": "LayoutModel",
      "state": {
       "_model_module": "@jupyter-widgets/base",
       "_model_module_version": "2.0.0",
       "_model_name": "LayoutModel",
       "_view_count": null,
       "_view_module": "@jupyter-widgets/base",
       "_view_module_version": "2.0.0",
       "_view_name": "LayoutView",
       "align_content": null,
       "align_items": null,
       "align_self": null,
       "border_bottom": null,
       "border_left": null,
       "border_right": null,
       "border_top": null,
       "bottom": null,
       "display": null,
       "flex": null,
       "flex_flow": null,
       "grid_area": null,
       "grid_auto_columns": null,
       "grid_auto_flow": null,
       "grid_auto_rows": null,
       "grid_column": null,
       "grid_gap": null,
       "grid_row": null,
       "grid_template_areas": null,
       "grid_template_columns": null,
       "grid_template_rows": null,
       "height": null,
       "justify_content": null,
       "justify_items": null,
       "left": null,
       "margin": null,
       "max_height": null,
       "max_width": null,
       "min_height": null,
       "min_width": null,
       "object_fit": null,
       "object_position": null,
       "order": null,
       "overflow": null,
       "padding": null,
       "right": null,
       "top": null,
       "visibility": null,
       "width": null
      }
     },
     "1db98e9c3cfc47688815bf9057460d6e": {
      "model_module": "@jupyter-widgets/base",
      "model_module_version": "2.0.0",
      "model_name": "LayoutModel",
      "state": {
       "_model_module": "@jupyter-widgets/base",
       "_model_module_version": "2.0.0",
       "_model_name": "LayoutModel",
       "_view_count": null,
       "_view_module": "@jupyter-widgets/base",
       "_view_module_version": "2.0.0",
       "_view_name": "LayoutView",
       "align_content": null,
       "align_items": null,
       "align_self": null,
       "border_bottom": null,
       "border_left": null,
       "border_right": null,
       "border_top": null,
       "bottom": null,
       "display": null,
       "flex": null,
       "flex_flow": null,
       "grid_area": null,
       "grid_auto_columns": null,
       "grid_auto_flow": null,
       "grid_auto_rows": null,
       "grid_column": null,
       "grid_gap": null,
       "grid_row": null,
       "grid_template_areas": null,
       "grid_template_columns": null,
       "grid_template_rows": null,
       "height": null,
       "justify_content": null,
       "justify_items": null,
       "left": null,
       "margin": null,
       "max_height": null,
       "max_width": null,
       "min_height": null,
       "min_width": null,
       "object_fit": null,
       "object_position": null,
       "order": null,
       "overflow": null,
       "padding": null,
       "right": null,
       "top": null,
       "visibility": null,
       "width": null
      }
     },
     "1e4c4e8def5941a0b240979f0b5421a8": {
      "model_module": "@jupyter-widgets/controls",
      "model_module_version": "2.0.0",
      "model_name": "ButtonStyleModel",
      "state": {
       "_model_module": "@jupyter-widgets/controls",
       "_model_module_version": "2.0.0",
       "_model_name": "ButtonStyleModel",
       "_view_count": null,
       "_view_module": "@jupyter-widgets/base",
       "_view_module_version": "2.0.0",
       "_view_name": "StyleView",
       "button_color": null,
       "font_family": null,
       "font_size": null,
       "font_style": null,
       "font_variant": null,
       "font_weight": null,
       "text_color": null,
       "text_decoration": null
      }
     },
     "203bf418637a41178e9abb2dd08d9c5a": {
      "model_module": "@jupyter-widgets/base",
      "model_module_version": "2.0.0",
      "model_name": "LayoutModel",
      "state": {
       "_model_module": "@jupyter-widgets/base",
       "_model_module_version": "2.0.0",
       "_model_name": "LayoutModel",
       "_view_count": null,
       "_view_module": "@jupyter-widgets/base",
       "_view_module_version": "2.0.0",
       "_view_name": "LayoutView",
       "align_content": null,
       "align_items": null,
       "align_self": null,
       "border_bottom": null,
       "border_left": null,
       "border_right": null,
       "border_top": null,
       "bottom": null,
       "display": null,
       "flex": null,
       "flex_flow": null,
       "grid_area": null,
       "grid_auto_columns": null,
       "grid_auto_flow": null,
       "grid_auto_rows": null,
       "grid_column": null,
       "grid_gap": null,
       "grid_row": null,
       "grid_template_areas": null,
       "grid_template_columns": null,
       "grid_template_rows": null,
       "height": null,
       "justify_content": null,
       "justify_items": null,
       "left": null,
       "margin": null,
       "max_height": null,
       "max_width": null,
       "min_height": null,
       "min_width": null,
       "object_fit": null,
       "object_position": null,
       "order": null,
       "overflow": null,
       "padding": null,
       "right": null,
       "top": null,
       "visibility": null,
       "width": null
      }
     },
     "23683aecf05c47e39f7407d1bf9998d0": {
      "model_module": "@jupyter-widgets/controls",
      "model_module_version": "2.0.0",
      "model_name": "HBoxModel",
      "state": {
       "_dom_classes": [],
       "_model_module": "@jupyter-widgets/controls",
       "_model_module_version": "2.0.0",
       "_model_name": "HBoxModel",
       "_view_count": null,
       "_view_module": "@jupyter-widgets/controls",
       "_view_module_version": "2.0.0",
       "_view_name": "HBoxView",
       "box_style": "",
       "children": [
        "IPY_MODEL_23a978e67fa04c2bb0dd78032ce9698b",
        "IPY_MODEL_9ff80a80234e472faff5fa46c812432a",
        "IPY_MODEL_26cef9b010ca4f469d7cfcff52f1a7a9"
       ],
       "layout": "IPY_MODEL_c432ab25b1ea4f038056dfa701d38901",
       "tabbable": null,
       "tooltip": null
      }
     },
     "23a978e67fa04c2bb0dd78032ce9698b": {
      "model_module": "@jupyter-widgets/controls",
      "model_module_version": "2.0.0",
      "model_name": "DatePickerModel",
      "state": {
       "_dom_classes": [],
       "_model_module": "@jupyter-widgets/controls",
       "_model_module_version": "2.0.0",
       "_model_name": "DatePickerModel",
       "_view_count": null,
       "_view_module": "@jupyter-widgets/controls",
       "_view_module_version": "2.0.0",
       "_view_name": "DatePickerView",
       "description": "Start date:",
       "description_allow_html": false,
       "disabled": false,
       "layout": "IPY_MODEL_505aefd280df405db79c173a38f50829",
       "max": null,
       "min": null,
       "step": 1,
       "style": "IPY_MODEL_2eda0b57d7564e8ebcf65175f4be78bd",
       "tabbable": null,
       "tooltip": null,
       "value": null
      }
     },
     "24955e67a34e4788a106d126789aadae": {
      "model_module": "@jupyter-widgets/base",
      "model_module_version": "2.0.0",
      "model_name": "LayoutModel",
      "state": {
       "_model_module": "@jupyter-widgets/base",
       "_model_module_version": "2.0.0",
       "_model_name": "LayoutModel",
       "_view_count": null,
       "_view_module": "@jupyter-widgets/base",
       "_view_module_version": "2.0.0",
       "_view_name": "LayoutView",
       "align_content": null,
       "align_items": null,
       "align_self": null,
       "border_bottom": null,
       "border_left": null,
       "border_right": null,
       "border_top": null,
       "bottom": null,
       "display": null,
       "flex": null,
       "flex_flow": null,
       "grid_area": null,
       "grid_auto_columns": null,
       "grid_auto_flow": null,
       "grid_auto_rows": null,
       "grid_column": null,
       "grid_gap": null,
       "grid_row": null,
       "grid_template_areas": null,
       "grid_template_columns": null,
       "grid_template_rows": null,
       "height": null,
       "justify_content": null,
       "justify_items": null,
       "left": null,
       "margin": null,
       "max_height": null,
       "max_width": null,
       "min_height": null,
       "min_width": null,
       "object_fit": null,
       "object_position": null,
       "order": null,
       "overflow": null,
       "padding": null,
       "right": null,
       "top": null,
       "visibility": null,
       "width": null
      }
     },
     "26cef9b010ca4f469d7cfcff52f1a7a9": {
      "model_module": "@jupyter-widgets/controls",
      "model_module_version": "2.0.0",
      "model_name": "ButtonModel",
      "state": {
       "_dom_classes": [],
       "_model_module": "@jupyter-widgets/controls",
       "_model_module_version": "2.0.0",
       "_model_name": "ButtonModel",
       "_view_count": null,
       "_view_module": "@jupyter-widgets/controls",
       "_view_module_version": "2.0.0",
       "_view_name": "ButtonView",
       "button_style": "info",
       "description": "Apply Filter",
       "disabled": true,
       "icon": "",
       "layout": "IPY_MODEL_3cde490d0b44415680ba03c2e45304a1",
       "style": "IPY_MODEL_fbdee3316c0d4bffa401ced5ff805432",
       "tabbable": null,
       "tooltip": null
      }
     },
     "2a96d9138133493bb09ce6c464ac2891": {
      "model_module": "@jupyter-widgets/controls",
      "model_module_version": "2.0.0",
      "model_name": "DescriptionStyleModel",
      "state": {
       "_model_module": "@jupyter-widgets/controls",
       "_model_module_version": "2.0.0",
       "_model_name": "DescriptionStyleModel",
       "_view_count": null,
       "_view_module": "@jupyter-widgets/base",
       "_view_module_version": "2.0.0",
       "_view_name": "StyleView",
       "description_width": ""
      }
     },
     "2eda0b57d7564e8ebcf65175f4be78bd": {
      "model_module": "@jupyter-widgets/controls",
      "model_module_version": "2.0.0",
      "model_name": "DescriptionStyleModel",
      "state": {
       "_model_module": "@jupyter-widgets/controls",
       "_model_module_version": "2.0.0",
       "_model_name": "DescriptionStyleModel",
       "_view_count": null,
       "_view_module": "@jupyter-widgets/base",
       "_view_module_version": "2.0.0",
       "_view_name": "StyleView",
       "description_width": ""
      }
     },
     "2fd3141017284781805ac73cf9830eda": {
      "model_module": "@jupyter-widgets/base",
      "model_module_version": "2.0.0",
      "model_name": "LayoutModel",
      "state": {
       "_model_module": "@jupyter-widgets/base",
       "_model_module_version": "2.0.0",
       "_model_name": "LayoutModel",
       "_view_count": null,
       "_view_module": "@jupyter-widgets/base",
       "_view_module_version": "2.0.0",
       "_view_name": "LayoutView",
       "align_content": null,
       "align_items": null,
       "align_self": null,
       "border_bottom": null,
       "border_left": null,
       "border_right": null,
       "border_top": null,
       "bottom": null,
       "display": null,
       "flex": null,
       "flex_flow": null,
       "grid_area": null,
       "grid_auto_columns": null,
       "grid_auto_flow": null,
       "grid_auto_rows": null,
       "grid_column": null,
       "grid_gap": null,
       "grid_row": null,
       "grid_template_areas": null,
       "grid_template_columns": null,
       "grid_template_rows": null,
       "height": null,
       "justify_content": null,
       "justify_items": null,
       "left": null,
       "margin": null,
       "max_height": null,
       "max_width": null,
       "min_height": null,
       "min_width": null,
       "object_fit": null,
       "object_position": null,
       "order": null,
       "overflow": null,
       "padding": null,
       "right": null,
       "top": null,
       "visibility": null,
       "width": null
      }
     },
     "32a4b538fe024003b114b4aa5b2419c1": {
      "model_module": "@jupyter-widgets/controls",
      "model_module_version": "2.0.0",
      "model_name": "HBoxModel",
      "state": {
       "_dom_classes": [],
       "_model_module": "@jupyter-widgets/controls",
       "_model_module_version": "2.0.0",
       "_model_name": "HBoxModel",
       "_view_count": null,
       "_view_module": "@jupyter-widgets/controls",
       "_view_module_version": "2.0.0",
       "_view_name": "HBoxView",
       "box_style": "",
       "children": [
        "IPY_MODEL_4e80438771ab47a9bbafb89b322139cb",
        "IPY_MODEL_e3f50d2dd1da469385e834e864183284",
        "IPY_MODEL_72ab64276b4c4db8aff2e3cf7c32709d"
       ],
       "layout": "IPY_MODEL_f08a5657f28e47e0a00acbbd7e2ed0e9",
       "tabbable": null,
       "tooltip": null
      }
     },
     "37743b4262224ec6b895beb9054c117f": {
      "model_module": "@jupyter-widgets/base",
      "model_module_version": "2.0.0",
      "model_name": "LayoutModel",
      "state": {
       "_model_module": "@jupyter-widgets/base",
       "_model_module_version": "2.0.0",
       "_model_name": "LayoutModel",
       "_view_count": null,
       "_view_module": "@jupyter-widgets/base",
       "_view_module_version": "2.0.0",
       "_view_name": "LayoutView",
       "align_content": null,
       "align_items": null,
       "align_self": null,
       "border_bottom": null,
       "border_left": null,
       "border_right": null,
       "border_top": null,
       "bottom": null,
       "display": null,
       "flex": null,
       "flex_flow": null,
       "grid_area": null,
       "grid_auto_columns": null,
       "grid_auto_flow": null,
       "grid_auto_rows": null,
       "grid_column": null,
       "grid_gap": null,
       "grid_row": null,
       "grid_template_areas": null,
       "grid_template_columns": null,
       "grid_template_rows": null,
       "height": null,
       "justify_content": null,
       "justify_items": null,
       "left": null,
       "margin": null,
       "max_height": null,
       "max_width": null,
       "min_height": null,
       "min_width": null,
       "object_fit": null,
       "object_position": null,
       "order": null,
       "overflow": null,
       "padding": null,
       "right": null,
       "top": null,
       "visibility": null,
       "width": null
      }
     },
     "3cde490d0b44415680ba03c2e45304a1": {
      "model_module": "@jupyter-widgets/base",
      "model_module_version": "2.0.0",
      "model_name": "LayoutModel",
      "state": {
       "_model_module": "@jupyter-widgets/base",
       "_model_module_version": "2.0.0",
       "_model_name": "LayoutModel",
       "_view_count": null,
       "_view_module": "@jupyter-widgets/base",
       "_view_module_version": "2.0.0",
       "_view_name": "LayoutView",
       "align_content": null,
       "align_items": null,
       "align_self": null,
       "border_bottom": null,
       "border_left": null,
       "border_right": null,
       "border_top": null,
       "bottom": null,
       "display": null,
       "flex": null,
       "flex_flow": null,
       "grid_area": null,
       "grid_auto_columns": null,
       "grid_auto_flow": null,
       "grid_auto_rows": null,
       "grid_column": null,
       "grid_gap": null,
       "grid_row": null,
       "grid_template_areas": null,
       "grid_template_columns": null,
       "grid_template_rows": null,
       "height": null,
       "justify_content": null,
       "justify_items": null,
       "left": null,
       "margin": null,
       "max_height": null,
       "max_width": null,
       "min_height": null,
       "min_width": null,
       "object_fit": null,
       "object_position": null,
       "order": null,
       "overflow": null,
       "padding": null,
       "right": null,
       "top": null,
       "visibility": null,
       "width": null
      }
     },
     "435916c67af54bd5a1a3a5f9394645ee": {
      "model_module": "@jupyter-widgets/controls",
      "model_module_version": "2.0.0",
      "model_name": "ButtonStyleModel",
      "state": {
       "_model_module": "@jupyter-widgets/controls",
       "_model_module_version": "2.0.0",
       "_model_name": "ButtonStyleModel",
       "_view_count": null,
       "_view_module": "@jupyter-widgets/base",
       "_view_module_version": "2.0.0",
       "_view_name": "StyleView",
       "button_color": null,
       "font_family": null,
       "font_size": null,
       "font_style": null,
       "font_variant": null,
       "font_weight": null,
       "text_color": null,
       "text_decoration": null
      }
     },
     "47b22e3b62ff48ce9888268ac13a9480": {
      "model_module": "@jupyter-widgets/controls",
      "model_module_version": "2.0.0",
      "model_name": "ButtonStyleModel",
      "state": {
       "_model_module": "@jupyter-widgets/controls",
       "_model_module_version": "2.0.0",
       "_model_name": "ButtonStyleModel",
       "_view_count": null,
       "_view_module": "@jupyter-widgets/base",
       "_view_module_version": "2.0.0",
       "_view_name": "StyleView",
       "button_color": null,
       "font_family": null,
       "font_size": null,
       "font_style": null,
       "font_variant": null,
       "font_weight": null,
       "text_color": null,
       "text_decoration": null
      }
     },
     "4da85b496fc645f7944836efe9d2149a": {
      "model_module": "@jupyter-widgets/base",
      "model_module_version": "2.0.0",
      "model_name": "LayoutModel",
      "state": {
       "_model_module": "@jupyter-widgets/base",
       "_model_module_version": "2.0.0",
       "_model_name": "LayoutModel",
       "_view_count": null,
       "_view_module": "@jupyter-widgets/base",
       "_view_module_version": "2.0.0",
       "_view_name": "LayoutView",
       "align_content": null,
       "align_items": null,
       "align_self": null,
       "border_bottom": null,
       "border_left": null,
       "border_right": null,
       "border_top": null,
       "bottom": null,
       "display": null,
       "flex": null,
       "flex_flow": null,
       "grid_area": null,
       "grid_auto_columns": null,
       "grid_auto_flow": null,
       "grid_auto_rows": null,
       "grid_column": null,
       "grid_gap": null,
       "grid_row": null,
       "grid_template_areas": null,
       "grid_template_columns": null,
       "grid_template_rows": null,
       "height": null,
       "justify_content": null,
       "justify_items": null,
       "left": null,
       "margin": null,
       "max_height": null,
       "max_width": null,
       "min_height": null,
       "min_width": null,
       "object_fit": null,
       "object_position": null,
       "order": null,
       "overflow": null,
       "padding": null,
       "right": null,
       "top": null,
       "visibility": null,
       "width": null
      }
     },
     "4e80438771ab47a9bbafb89b322139cb": {
      "model_module": "@jupyter-widgets/controls",
      "model_module_version": "2.0.0",
      "model_name": "DatePickerModel",
      "state": {
       "_dom_classes": [],
       "_model_module": "@jupyter-widgets/controls",
       "_model_module_version": "2.0.0",
       "_model_name": "DatePickerModel",
       "_view_count": null,
       "_view_module": "@jupyter-widgets/controls",
       "_view_module_version": "2.0.0",
       "_view_name": "DatePickerView",
       "description": "Start:",
       "description_allow_html": false,
       "disabled": false,
       "layout": "IPY_MODEL_2fd3141017284781805ac73cf9830eda",
       "max": null,
       "min": null,
       "step": 1,
       "style": "IPY_MODEL_5cce33636b234d6b95094e44560bce36",
       "tabbable": null,
       "tooltip": null,
       "value": {
        "date": 1,
        "month": 0,
        "year": 2025
       }
      }
     },
     "505aefd280df405db79c173a38f50829": {
      "model_module": "@jupyter-widgets/base",
      "model_module_version": "2.0.0",
      "model_name": "LayoutModel",
      "state": {
       "_model_module": "@jupyter-widgets/base",
       "_model_module_version": "2.0.0",
       "_model_name": "LayoutModel",
       "_view_count": null,
       "_view_module": "@jupyter-widgets/base",
       "_view_module_version": "2.0.0",
       "_view_name": "LayoutView",
       "align_content": null,
       "align_items": null,
       "align_self": null,
       "border_bottom": null,
       "border_left": null,
       "border_right": null,
       "border_top": null,
       "bottom": null,
       "display": null,
       "flex": null,
       "flex_flow": null,
       "grid_area": null,
       "grid_auto_columns": null,
       "grid_auto_flow": null,
       "grid_auto_rows": null,
       "grid_column": null,
       "grid_gap": null,
       "grid_row": null,
       "grid_template_areas": null,
       "grid_template_columns": null,
       "grid_template_rows": null,
       "height": null,
       "justify_content": null,
       "justify_items": null,
       "left": null,
       "margin": null,
       "max_height": null,
       "max_width": null,
       "min_height": null,
       "min_width": null,
       "object_fit": null,
       "object_position": null,
       "order": null,
       "overflow": null,
       "padding": null,
       "right": null,
       "top": null,
       "visibility": null,
       "width": null
      }
     },
     "555c291aedda4355861b171f2dccf801": {
      "model_module": "@jupyter-widgets/base",
      "model_module_version": "2.0.0",
      "model_name": "LayoutModel",
      "state": {
       "_model_module": "@jupyter-widgets/base",
       "_model_module_version": "2.0.0",
       "_model_name": "LayoutModel",
       "_view_count": null,
       "_view_module": "@jupyter-widgets/base",
       "_view_module_version": "2.0.0",
       "_view_name": "LayoutView",
       "align_content": null,
       "align_items": null,
       "align_self": null,
       "border_bottom": null,
       "border_left": null,
       "border_right": null,
       "border_top": null,
       "bottom": null,
       "display": null,
       "flex": null,
       "flex_flow": null,
       "grid_area": null,
       "grid_auto_columns": null,
       "grid_auto_flow": null,
       "grid_auto_rows": null,
       "grid_column": null,
       "grid_gap": null,
       "grid_row": null,
       "grid_template_areas": null,
       "grid_template_columns": null,
       "grid_template_rows": null,
       "height": null,
       "justify_content": null,
       "justify_items": null,
       "left": null,
       "margin": null,
       "max_height": null,
       "max_width": null,
       "min_height": null,
       "min_width": null,
       "object_fit": null,
       "object_position": null,
       "order": null,
       "overflow": null,
       "padding": null,
       "right": null,
       "top": null,
       "visibility": null,
       "width": null
      }
     },
     "5a82e64e98a745e19de857ce1a10224d": {
      "model_module": "@jupyter-widgets/controls",
      "model_module_version": "2.0.0",
      "model_name": "DescriptionStyleModel",
      "state": {
       "_model_module": "@jupyter-widgets/controls",
       "_model_module_version": "2.0.0",
       "_model_name": "DescriptionStyleModel",
       "_view_count": null,
       "_view_module": "@jupyter-widgets/base",
       "_view_module_version": "2.0.0",
       "_view_name": "StyleView",
       "description_width": ""
      }
     },
     "5cce33636b234d6b95094e44560bce36": {
      "model_module": "@jupyter-widgets/controls",
      "model_module_version": "2.0.0",
      "model_name": "DescriptionStyleModel",
      "state": {
       "_model_module": "@jupyter-widgets/controls",
       "_model_module_version": "2.0.0",
       "_model_name": "DescriptionStyleModel",
       "_view_count": null,
       "_view_module": "@jupyter-widgets/base",
       "_view_module_version": "2.0.0",
       "_view_name": "StyleView",
       "description_width": ""
      }
     },
     "60c710129c694748ab0ac155013cb8e5": {
      "model_module": "@jupyter-widgets/base",
      "model_module_version": "2.0.0",
      "model_name": "LayoutModel",
      "state": {
       "_model_module": "@jupyter-widgets/base",
       "_model_module_version": "2.0.0",
       "_model_name": "LayoutModel",
       "_view_count": null,
       "_view_module": "@jupyter-widgets/base",
       "_view_module_version": "2.0.0",
       "_view_name": "LayoutView",
       "align_content": null,
       "align_items": null,
       "align_self": null,
       "border_bottom": null,
       "border_left": null,
       "border_right": null,
       "border_top": null,
       "bottom": null,
       "display": null,
       "flex": null,
       "flex_flow": null,
       "grid_area": null,
       "grid_auto_columns": null,
       "grid_auto_flow": null,
       "grid_auto_rows": null,
       "grid_column": null,
       "grid_gap": null,
       "grid_row": null,
       "grid_template_areas": null,
       "grid_template_columns": null,
       "grid_template_rows": null,
       "height": null,
       "justify_content": null,
       "justify_items": null,
       "left": null,
       "margin": null,
       "max_height": null,
       "max_width": null,
       "min_height": null,
       "min_width": null,
       "object_fit": null,
       "object_position": null,
       "order": null,
       "overflow": null,
       "padding": null,
       "right": null,
       "top": null,
       "visibility": null,
       "width": null
      }
     },
     "6988aec7c5754d5c88ffb550e6572b51": {
      "model_module": "@jupyter-widgets/base",
      "model_module_version": "2.0.0",
      "model_name": "LayoutModel",
      "state": {
       "_model_module": "@jupyter-widgets/base",
       "_model_module_version": "2.0.0",
       "_model_name": "LayoutModel",
       "_view_count": null,
       "_view_module": "@jupyter-widgets/base",
       "_view_module_version": "2.0.0",
       "_view_name": "LayoutView",
       "align_content": null,
       "align_items": null,
       "align_self": null,
       "border_bottom": null,
       "border_left": null,
       "border_right": null,
       "border_top": null,
       "bottom": null,
       "display": null,
       "flex": null,
       "flex_flow": null,
       "grid_area": null,
       "grid_auto_columns": null,
       "grid_auto_flow": null,
       "grid_auto_rows": null,
       "grid_column": null,
       "grid_gap": null,
       "grid_row": null,
       "grid_template_areas": null,
       "grid_template_columns": null,
       "grid_template_rows": null,
       "height": null,
       "justify_content": null,
       "justify_items": null,
       "left": null,
       "margin": null,
       "max_height": null,
       "max_width": null,
       "min_height": null,
       "min_width": null,
       "object_fit": null,
       "object_position": null,
       "order": null,
       "overflow": null,
       "padding": null,
       "right": null,
       "top": null,
       "visibility": null,
       "width": null
      }
     },
     "6ca65895283441618c71328db4a02836": {
      "model_module": "@jupyter-widgets/base",
      "model_module_version": "2.0.0",
      "model_name": "LayoutModel",
      "state": {
       "_model_module": "@jupyter-widgets/base",
       "_model_module_version": "2.0.0",
       "_model_name": "LayoutModel",
       "_view_count": null,
       "_view_module": "@jupyter-widgets/base",
       "_view_module_version": "2.0.0",
       "_view_name": "LayoutView",
       "align_content": null,
       "align_items": null,
       "align_self": null,
       "border_bottom": null,
       "border_left": null,
       "border_right": null,
       "border_top": null,
       "bottom": null,
       "display": null,
       "flex": null,
       "flex_flow": null,
       "grid_area": null,
       "grid_auto_columns": null,
       "grid_auto_flow": null,
       "grid_auto_rows": null,
       "grid_column": null,
       "grid_gap": null,
       "grid_row": null,
       "grid_template_areas": null,
       "grid_template_columns": null,
       "grid_template_rows": null,
       "height": null,
       "justify_content": null,
       "justify_items": null,
       "left": null,
       "margin": null,
       "max_height": null,
       "max_width": null,
       "min_height": null,
       "min_width": null,
       "object_fit": null,
       "object_position": null,
       "order": null,
       "overflow": null,
       "padding": null,
       "right": null,
       "top": null,
       "visibility": null,
       "width": null
      }
     },
     "72ab64276b4c4db8aff2e3cf7c32709d": {
      "model_module": "@jupyter-widgets/controls",
      "model_module_version": "2.0.0",
      "model_name": "ButtonModel",
      "state": {
       "_dom_classes": [],
       "_model_module": "@jupyter-widgets/controls",
       "_model_module_version": "2.0.0",
       "_model_name": "ButtonModel",
       "_view_count": null,
       "_view_module": "@jupyter-widgets/controls",
       "_view_module_version": "2.0.0",
       "_view_name": "ButtonView",
       "button_style": "primary",
       "description": "Filter",
       "disabled": false,
       "icon": "",
       "layout": "IPY_MODEL_203bf418637a41178e9abb2dd08d9c5a",
       "style": "IPY_MODEL_1e4c4e8def5941a0b240979f0b5421a8",
       "tabbable": null,
       "tooltip": null
      }
     },
     "7892476e60d5483ea0d88028027604ab": {
      "model_module": "@jupyter-widgets/output",
      "model_module_version": "1.0.0",
      "model_name": "OutputModel",
      "state": {
       "_dom_classes": [],
       "_model_module": "@jupyter-widgets/output",
       "_model_module_version": "1.0.0",
       "_model_name": "OutputModel",
       "_view_count": null,
       "_view_module": "@jupyter-widgets/output",
       "_view_module_version": "1.0.0",
       "_view_name": "OutputView",
       "layout": "IPY_MODEL_164dc2daf1a648ba9bbeaaf9145e7507",
       "msg_id": "",
       "outputs": [],
       "tabbable": null,
       "tooltip": null
      }
     },
     "7cc7b5f3a78b446383ad5f4491de25a3": {
      "model_module": "@jupyter-widgets/controls",
      "model_module_version": "2.0.0",
      "model_name": "DropdownModel",
      "state": {
       "_dom_classes": [],
       "_model_module": "@jupyter-widgets/controls",
       "_model_module_version": "2.0.0",
       "_model_name": "DropdownModel",
       "_options_labels": [
        "NO2"
       ],
       "_view_count": null,
       "_view_module": "@jupyter-widgets/controls",
       "_view_module_version": "2.0.0",
       "_view_name": "DropdownView",
       "description": "Pollutant:",
       "description_allow_html": false,
       "disabled": false,
       "index": 0,
       "layout": "IPY_MODEL_6ca65895283441618c71328db4a02836",
       "style": "IPY_MODEL_5a82e64e98a745e19de857ce1a10224d",
       "tabbable": null,
       "tooltip": null
      }
     },
     "8a35e07db325406fb5716d2a5b208a65": {
      "model_module": "@jupyter-widgets/controls",
      "model_module_version": "2.0.0",
      "model_name": "ButtonModel",
      "state": {
       "_dom_classes": [],
       "_model_module": "@jupyter-widgets/controls",
       "_model_module_version": "2.0.0",
       "_model_name": "ButtonModel",
       "_view_count": null,
       "_view_module": "@jupyter-widgets/controls",
       "_view_module_version": "2.0.0",
       "_view_name": "ButtonView",
       "button_style": "success",
       "description": "Download CSV",
       "disabled": true,
       "icon": "",
       "layout": "IPY_MODEL_fce01f08e2f743adabf8c00efac02b6a",
       "style": "IPY_MODEL_47b22e3b62ff48ce9888268ac13a9480",
       "tabbable": null,
       "tooltip": null
      }
     },
     "8bb42bd148d248e4a24ceb2561e22e13": {
      "model_module": "@jupyter-widgets/output",
      "model_module_version": "1.0.0",
      "model_name": "OutputModel",
      "state": {
       "_dom_classes": [],
       "_model_module": "@jupyter-widgets/output",
       "_model_module_version": "1.0.0",
       "_model_name": "OutputModel",
       "_view_count": null,
       "_view_module": "@jupyter-widgets/output",
       "_view_module_version": "1.0.0",
       "_view_name": "OutputView",
       "layout": "IPY_MODEL_37743b4262224ec6b895beb9054c117f",
       "msg_id": "",
       "outputs": [],
       "tabbable": null,
       "tooltip": null
      }
     },
     "8d9614f9aacc47e881f0bd9d68e010ec": {
      "model_module": "@jupyter-widgets/controls",
      "model_module_version": "2.0.0",
      "model_name": "DescriptionStyleModel",
      "state": {
       "_model_module": "@jupyter-widgets/controls",
       "_model_module_version": "2.0.0",
       "_model_name": "DescriptionStyleModel",
       "_view_count": null,
       "_view_module": "@jupyter-widgets/base",
       "_view_module_version": "2.0.0",
       "_view_name": "StyleView",
       "description_width": ""
      }
     },
     "9ff80a80234e472faff5fa46c812432a": {
      "model_module": "@jupyter-widgets/controls",
      "model_module_version": "2.0.0",
      "model_name": "DatePickerModel",
      "state": {
       "_dom_classes": [],
       "_model_module": "@jupyter-widgets/controls",
       "_model_module_version": "2.0.0",
       "_model_name": "DatePickerModel",
       "_view_count": null,
       "_view_module": "@jupyter-widgets/controls",
       "_view_module_version": "2.0.0",
       "_view_name": "DatePickerView",
       "description": "End date:",
       "description_allow_html": false,
       "disabled": false,
       "layout": "IPY_MODEL_dc8d3b18a58f4f9fb41f929c7df56fd2",
       "max": null,
       "min": null,
       "step": 1,
       "style": "IPY_MODEL_8d9614f9aacc47e881f0bd9d68e010ec",
       "tabbable": null,
       "tooltip": null,
       "value": null
      }
     },
     "a2b3e3b7bdc14d998d79120b5ff6556f": {
      "model_module": "@jupyter-widgets/output",
      "model_module_version": "1.0.0",
      "model_name": "OutputModel",
      "state": {
       "_dom_classes": [],
       "_model_module": "@jupyter-widgets/output",
       "_model_module_version": "1.0.0",
       "_model_name": "OutputModel",
       "_view_count": null,
       "_view_module": "@jupyter-widgets/output",
       "_view_module_version": "1.0.0",
       "_view_name": "OutputView",
       "layout": "IPY_MODEL_24955e67a34e4788a106d126789aadae",
       "msg_id": "",
       "outputs": [],
       "tabbable": null,
       "tooltip": null
      }
     },
     "bd89729d9bf74f7e82e26c8c81ea6816": {
      "model_module": "@jupyter-widgets/output",
      "model_module_version": "1.0.0",
      "model_name": "OutputModel",
      "state": {
       "_dom_classes": [],
       "_model_module": "@jupyter-widgets/output",
       "_model_module_version": "1.0.0",
       "_model_name": "OutputModel",
       "_view_count": null,
       "_view_module": "@jupyter-widgets/output",
       "_view_module_version": "1.0.0",
       "_view_name": "OutputView",
       "layout": "IPY_MODEL_c518e2f4804040049ba45d6c85bdb600",
       "msg_id": "",
       "outputs": [],
       "tabbable": null,
       "tooltip": null
      }
     },
     "c309dae8241e43a6805dc07ced032fbc": {
      "model_module": "@jupyter-widgets/controls",
      "model_module_version": "2.0.0",
      "model_name": "DescriptionStyleModel",
      "state": {
       "_model_module": "@jupyter-widgets/controls",
       "_model_module_version": "2.0.0",
       "_model_name": "DescriptionStyleModel",
       "_view_count": null,
       "_view_module": "@jupyter-widgets/base",
       "_view_module_version": "2.0.0",
       "_view_name": "StyleView",
       "description_width": ""
      }
     },
     "c33919aa5cd74adcb197914a1518646e": {
      "model_module": "@jupyter-widgets/controls",
      "model_module_version": "2.0.0",
      "model_name": "DropdownModel",
      "state": {
       "_dom_classes": [],
       "_model_module": "@jupyter-widgets/controls",
       "_model_module_version": "2.0.0",
       "_model_name": "DropdownModel",
       "_options_labels": [
        "BA0007RA004"
       ],
       "_view_count": null,
       "_view_module": "@jupyter-widgets/controls",
       "_view_module_version": "2.0.0",
       "_view_name": "DropdownView",
       "description": "Station:",
       "description_allow_html": false,
       "disabled": false,
       "index": 0,
       "layout": "IPY_MODEL_60c710129c694748ab0ac155013cb8e5",
       "style": "IPY_MODEL_2a96d9138133493bb09ce6c464ac2891",
       "tabbable": null,
       "tooltip": null
      }
     },
     "c432ab25b1ea4f038056dfa701d38901": {
      "model_module": "@jupyter-widgets/base",
      "model_module_version": "2.0.0",
      "model_name": "LayoutModel",
      "state": {
       "_model_module": "@jupyter-widgets/base",
       "_model_module_version": "2.0.0",
       "_model_name": "LayoutModel",
       "_view_count": null,
       "_view_module": "@jupyter-widgets/base",
       "_view_module_version": "2.0.0",
       "_view_name": "LayoutView",
       "align_content": null,
       "align_items": null,
       "align_self": null,
       "border_bottom": null,
       "border_left": null,
       "border_right": null,
       "border_top": null,
       "bottom": null,
       "display": null,
       "flex": null,
       "flex_flow": null,
       "grid_area": null,
       "grid_auto_columns": null,
       "grid_auto_flow": null,
       "grid_auto_rows": null,
       "grid_column": null,
       "grid_gap": null,
       "grid_row": null,
       "grid_template_areas": null,
       "grid_template_columns": null,
       "grid_template_rows": null,
       "height": null,
       "justify_content": null,
       "justify_items": null,
       "left": null,
       "margin": null,
       "max_height": null,
       "max_width": null,
       "min_height": null,
       "min_width": null,
       "object_fit": null,
       "object_position": null,
       "order": null,
       "overflow": null,
       "padding": null,
       "right": null,
       "top": null,
       "visibility": null,
       "width": null
      }
     },
     "c518e2f4804040049ba45d6c85bdb600": {
      "model_module": "@jupyter-widgets/base",
      "model_module_version": "2.0.0",
      "model_name": "LayoutModel",
      "state": {
       "_model_module": "@jupyter-widgets/base",
       "_model_module_version": "2.0.0",
       "_model_name": "LayoutModel",
       "_view_count": null,
       "_view_module": "@jupyter-widgets/base",
       "_view_module_version": "2.0.0",
       "_view_name": "LayoutView",
       "align_content": null,
       "align_items": null,
       "align_self": null,
       "border_bottom": null,
       "border_left": null,
       "border_right": null,
       "border_top": null,
       "bottom": null,
       "display": null,
       "flex": null,
       "flex_flow": null,
       "grid_area": null,
       "grid_auto_columns": null,
       "grid_auto_flow": null,
       "grid_auto_rows": null,
       "grid_column": null,
       "grid_gap": null,
       "grid_row": null,
       "grid_template_areas": null,
       "grid_template_columns": null,
       "grid_template_rows": null,
       "height": null,
       "justify_content": null,
       "justify_items": null,
       "left": null,
       "margin": null,
       "max_height": null,
       "max_width": null,
       "min_height": null,
       "min_width": null,
       "object_fit": null,
       "object_position": null,
       "order": null,
       "overflow": null,
       "padding": null,
       "right": null,
       "top": null,
       "visibility": null,
       "width": null
      }
     },
     "c698fbcfd762464cb59ad036aba7b150": {
      "model_module": "@jupyter-widgets/controls",
      "model_module_version": "2.0.0",
      "model_name": "ButtonStyleModel",
      "state": {
       "_model_module": "@jupyter-widgets/controls",
       "_model_module_version": "2.0.0",
       "_model_name": "ButtonStyleModel",
       "_view_count": null,
       "_view_module": "@jupyter-widgets/base",
       "_view_module_version": "2.0.0",
       "_view_name": "StyleView",
       "button_color": null,
       "font_family": null,
       "font_size": null,
       "font_style": null,
       "font_variant": null,
       "font_weight": null,
       "text_color": null,
       "text_decoration": null
      }
     },
     "cd080c07fbc94816b8d6c2b4d63d40ce": {
      "model_module": "@jupyter-widgets/output",
      "model_module_version": "1.0.0",
      "model_name": "OutputModel",
      "state": {
       "_dom_classes": [],
       "_model_module": "@jupyter-widgets/output",
       "_model_module_version": "1.0.0",
       "_model_name": "OutputModel",
       "_view_count": null,
       "_view_module": "@jupyter-widgets/output",
       "_view_module_version": "1.0.0",
       "_view_name": "OutputView",
       "layout": "IPY_MODEL_ffd8c2e6b0d240dda3b2d15037fc45f7",
       "msg_id": "",
       "outputs": [],
       "tabbable": null,
       "tooltip": null
      }
     },
     "d25b9ec643ce4a65b5bace15c4cc5c53": {
      "model_module": "@jupyter-widgets/base",
      "model_module_version": "2.0.0",
      "model_name": "LayoutModel",
      "state": {
       "_model_module": "@jupyter-widgets/base",
       "_model_module_version": "2.0.0",
       "_model_name": "LayoutModel",
       "_view_count": null,
       "_view_module": "@jupyter-widgets/base",
       "_view_module_version": "2.0.0",
       "_view_name": "LayoutView",
       "align_content": null,
       "align_items": null,
       "align_self": null,
       "border_bottom": null,
       "border_left": null,
       "border_right": null,
       "border_top": null,
       "bottom": null,
       "display": null,
       "flex": null,
       "flex_flow": null,
       "grid_area": null,
       "grid_auto_columns": null,
       "grid_auto_flow": null,
       "grid_auto_rows": null,
       "grid_column": null,
       "grid_gap": null,
       "grid_row": null,
       "grid_template_areas": null,
       "grid_template_columns": null,
       "grid_template_rows": null,
       "height": null,
       "justify_content": null,
       "justify_items": null,
       "left": null,
       "margin": null,
       "max_height": null,
       "max_width": null,
       "min_height": null,
       "min_width": null,
       "object_fit": null,
       "object_position": null,
       "order": null,
       "overflow": null,
       "padding": null,
       "right": null,
       "top": null,
       "visibility": null,
       "width": null
      }
     },
     "da20502465ed4789a4e59ce7647c545e": {
      "model_module": "@jupyter-widgets/output",
      "model_module_version": "1.0.0",
      "model_name": "OutputModel",
      "state": {
       "_dom_classes": [],
       "_model_module": "@jupyter-widgets/output",
       "_model_module_version": "1.0.0",
       "_model_name": "OutputModel",
       "_view_count": null,
       "_view_module": "@jupyter-widgets/output",
       "_view_module_version": "1.0.0",
       "_view_name": "OutputView",
       "layout": "IPY_MODEL_6988aec7c5754d5c88ffb550e6572b51",
       "msg_id": "",
       "outputs": [],
       "tabbable": null,
       "tooltip": null
      }
     },
     "dc8d3b18a58f4f9fb41f929c7df56fd2": {
      "model_module": "@jupyter-widgets/base",
      "model_module_version": "2.0.0",
      "model_name": "LayoutModel",
      "state": {
       "_model_module": "@jupyter-widgets/base",
       "_model_module_version": "2.0.0",
       "_model_name": "LayoutModel",
       "_view_count": null,
       "_view_module": "@jupyter-widgets/base",
       "_view_module_version": "2.0.0",
       "_view_name": "LayoutView",
       "align_content": null,
       "align_items": null,
       "align_self": null,
       "border_bottom": null,
       "border_left": null,
       "border_right": null,
       "border_top": null,
       "bottom": null,
       "display": null,
       "flex": null,
       "flex_flow": null,
       "grid_area": null,
       "grid_auto_columns": null,
       "grid_auto_flow": null,
       "grid_auto_rows": null,
       "grid_column": null,
       "grid_gap": null,
       "grid_row": null,
       "grid_template_areas": null,
       "grid_template_columns": null,
       "grid_template_rows": null,
       "height": null,
       "justify_content": null,
       "justify_items": null,
       "left": null,
       "margin": null,
       "max_height": null,
       "max_width": null,
       "min_height": null,
       "min_width": null,
       "object_fit": null,
       "object_position": null,
       "order": null,
       "overflow": null,
       "padding": null,
       "right": null,
       "top": null,
       "visibility": null,
       "width": null
      }
     },
     "e3f50d2dd1da469385e834e864183284": {
      "model_module": "@jupyter-widgets/controls",
      "model_module_version": "2.0.0",
      "model_name": "DatePickerModel",
      "state": {
       "_dom_classes": [],
       "_model_module": "@jupyter-widgets/controls",
       "_model_module_version": "2.0.0",
       "_model_name": "DatePickerModel",
       "_view_count": null,
       "_view_module": "@jupyter-widgets/controls",
       "_view_module_version": "2.0.0",
       "_view_name": "DatePickerView",
       "description": "End:",
       "description_allow_html": false,
       "disabled": false,
       "layout": "IPY_MODEL_1db98e9c3cfc47688815bf9057460d6e",
       "max": null,
       "min": null,
       "step": 1,
       "style": "IPY_MODEL_c309dae8241e43a6805dc07ced032fbc",
       "tabbable": null,
       "tooltip": null,
       "value": {
        "date": 1,
        "month": 3,
        "year": 2025
       }
      }
     },
     "ecc1c20d624b4c6187ee59325800ef1c": {
      "model_module": "@jupyter-widgets/base",
      "model_module_version": "2.0.0",
      "model_name": "LayoutModel",
      "state": {
       "_model_module": "@jupyter-widgets/base",
       "_model_module_version": "2.0.0",
       "_model_name": "LayoutModel",
       "_view_count": null,
       "_view_module": "@jupyter-widgets/base",
       "_view_module_version": "2.0.0",
       "_view_name": "LayoutView",
       "align_content": null,
       "align_items": null,
       "align_self": null,
       "border_bottom": null,
       "border_left": null,
       "border_right": null,
       "border_top": null,
       "bottom": null,
       "display": null,
       "flex": null,
       "flex_flow": null,
       "grid_area": null,
       "grid_auto_columns": null,
       "grid_auto_flow": null,
       "grid_auto_rows": null,
       "grid_column": null,
       "grid_gap": null,
       "grid_row": null,
       "grid_template_areas": null,
       "grid_template_columns": null,
       "grid_template_rows": null,
       "height": null,
       "justify_content": null,
       "justify_items": null,
       "left": null,
       "margin": null,
       "max_height": null,
       "max_width": null,
       "min_height": null,
       "min_width": null,
       "object_fit": null,
       "object_position": null,
       "order": null,
       "overflow": null,
       "padding": null,
       "right": null,
       "top": null,
       "visibility": null,
       "width": null
      }
     },
     "f08a5657f28e47e0a00acbbd7e2ed0e9": {
      "model_module": "@jupyter-widgets/base",
      "model_module_version": "2.0.0",
      "model_name": "LayoutModel",
      "state": {
       "_model_module": "@jupyter-widgets/base",
       "_model_module_version": "2.0.0",
       "_model_name": "LayoutModel",
       "_view_count": null,
       "_view_module": "@jupyter-widgets/base",
       "_view_module_version": "2.0.0",
       "_view_name": "LayoutView",
       "align_content": null,
       "align_items": null,
       "align_self": null,
       "border_bottom": null,
       "border_left": null,
       "border_right": null,
       "border_top": null,
       "bottom": null,
       "display": null,
       "flex": null,
       "flex_flow": null,
       "grid_area": null,
       "grid_auto_columns": null,
       "grid_auto_flow": null,
       "grid_auto_rows": null,
       "grid_column": null,
       "grid_gap": null,
       "grid_row": null,
       "grid_template_areas": null,
       "grid_template_columns": null,
       "grid_template_rows": null,
       "height": null,
       "justify_content": null,
       "justify_items": null,
       "left": null,
       "margin": null,
       "max_height": null,
       "max_width": null,
       "min_height": null,
       "min_width": null,
       "object_fit": null,
       "object_position": null,
       "order": null,
       "overflow": null,
       "padding": null,
       "right": null,
       "top": null,
       "visibility": null,
       "width": null
      }
     },
     "f59c1e9070354dbca5e6f718e9a16415": {
      "model_module": "@jupyter-widgets/controls",
      "model_module_version": "2.0.0",
      "model_name": "HBoxModel",
      "state": {
       "_dom_classes": [],
       "_model_module": "@jupyter-widgets/controls",
       "_model_module_version": "2.0.0",
       "_model_name": "HBoxModel",
       "_view_count": null,
       "_view_module": "@jupyter-widgets/controls",
       "_view_module_version": "2.0.0",
       "_view_name": "HBoxView",
       "box_style": "",
       "children": [
        "IPY_MODEL_c33919aa5cd74adcb197914a1518646e",
        "IPY_MODEL_7cc7b5f3a78b446383ad5f4491de25a3",
        "IPY_MODEL_00f232ec32d74422a9336b2d6fd0b4ac"
       ],
       "layout": "IPY_MODEL_d25b9ec643ce4a65b5bace15c4cc5c53",
       "tabbable": null,
       "tooltip": null
      }
     },
     "fbdee3316c0d4bffa401ced5ff805432": {
      "model_module": "@jupyter-widgets/controls",
      "model_module_version": "2.0.0",
      "model_name": "ButtonStyleModel",
      "state": {
       "_model_module": "@jupyter-widgets/controls",
       "_model_module_version": "2.0.0",
       "_model_name": "ButtonStyleModel",
       "_view_count": null,
       "_view_module": "@jupyter-widgets/base",
       "_view_module_version": "2.0.0",
       "_view_name": "StyleView",
       "button_color": null,
       "font_family": null,
       "font_size": null,
       "font_style": null,
       "font_variant": null,
       "font_weight": null,
       "text_color": null,
       "text_decoration": null
      }
     },
     "fc5920cc8ac8421687f25da482372327": {
      "model_module": "@jupyter-widgets/controls",
      "model_module_version": "2.0.0",
      "model_name": "ButtonModel",
      "state": {
       "_dom_classes": [],
       "_model_module": "@jupyter-widgets/controls",
       "_model_module_version": "2.0.0",
       "_model_name": "ButtonModel",
       "_view_count": null,
       "_view_module": "@jupyter-widgets/controls",
       "_view_module_version": "2.0.0",
       "_view_name": "ButtonView",
       "button_style": "success",
       "description": "Download Filtered CSV",
       "disabled": true,
       "icon": "",
       "layout": "IPY_MODEL_ecc1c20d624b4c6187ee59325800ef1c",
       "style": "IPY_MODEL_c698fbcfd762464cb59ad036aba7b150",
       "tabbable": null,
       "tooltip": null
      }
     },
     "fce01f08e2f743adabf8c00efac02b6a": {
      "model_module": "@jupyter-widgets/base",
      "model_module_version": "2.0.0",
      "model_name": "LayoutModel",
      "state": {
       "_model_module": "@jupyter-widgets/base",
       "_model_module_version": "2.0.0",
       "_model_name": "LayoutModel",
       "_view_count": null,
       "_view_module": "@jupyter-widgets/base",
       "_view_module_version": "2.0.0",
       "_view_name": "LayoutView",
       "align_content": null,
       "align_items": null,
       "align_self": null,
       "border_bottom": null,
       "border_left": null,
       "border_right": null,
       "border_top": null,
       "bottom": null,
       "display": null,
       "flex": null,
       "flex_flow": null,
       "grid_area": null,
       "grid_auto_columns": null,
       "grid_auto_flow": null,
       "grid_auto_rows": null,
       "grid_column": null,
       "grid_gap": null,
       "grid_row": null,
       "grid_template_areas": null,
       "grid_template_columns": null,
       "grid_template_rows": null,
       "height": null,
       "justify_content": null,
       "justify_items": null,
       "left": null,
       "margin": null,
       "max_height": null,
       "max_width": null,
       "min_height": null,
       "min_width": null,
       "object_fit": null,
       "object_position": null,
       "order": null,
       "overflow": null,
       "padding": null,
       "right": null,
       "top": null,
       "visibility": null,
       "width": null
      }
     },
     "ffcc2d68aeb84fdd973e26d40aefa00b": {
      "model_module": "@jupyter-widgets/controls",
      "model_module_version": "2.0.0",
      "model_name": "HBoxModel",
      "state": {
       "_dom_classes": [],
       "_model_module": "@jupyter-widgets/controls",
       "_model_module_version": "2.0.0",
       "_model_name": "HBoxModel",
       "_view_count": null,
       "_view_module": "@jupyter-widgets/controls",
       "_view_module_version": "2.0.0",
       "_view_name": "HBoxView",
       "box_style": "",
       "children": [
        "IPY_MODEL_fc5920cc8ac8421687f25da482372327"
       ],
       "layout": "IPY_MODEL_0db776872b794cad9bc8e0c9c76dc3af",
       "tabbable": null,
       "tooltip": null
      }
     },
     "ffd8c2e6b0d240dda3b2d15037fc45f7": {
      "model_module": "@jupyter-widgets/base",
      "model_module_version": "2.0.0",
      "model_name": "LayoutModel",
      "state": {
       "_model_module": "@jupyter-widgets/base",
       "_model_module_version": "2.0.0",
       "_model_name": "LayoutModel",
       "_view_count": null,
       "_view_module": "@jupyter-widgets/base",
       "_view_module_version": "2.0.0",
       "_view_name": "LayoutView",
       "align_content": null,
       "align_items": null,
       "align_self": null,
       "border_bottom": null,
       "border_left": null,
       "border_right": null,
       "border_top": null,
       "bottom": null,
       "display": null,
       "flex": null,
       "flex_flow": null,
       "grid_area": null,
       "grid_auto_columns": null,
       "grid_auto_flow": null,
       "grid_auto_rows": null,
       "grid_column": null,
       "grid_gap": null,
       "grid_row": null,
       "grid_template_areas": null,
       "grid_template_columns": null,
       "grid_template_rows": null,
       "height": null,
       "justify_content": null,
       "justify_items": null,
       "left": null,
       "margin": null,
       "max_height": null,
       "max_width": null,
       "min_height": null,
       "min_width": null,
       "object_fit": null,
       "object_position": null,
       "order": null,
       "overflow": null,
       "padding": null,
       "right": null,
       "top": null,
       "visibility": null,
       "width": null
      }
     }
    },
    "version_major": 2,
    "version_minor": 0
   }
  }
 },
 "nbformat": 4,
 "nbformat_minor": 5
}