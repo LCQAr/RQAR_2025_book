{
 "cells": [
  {
   "cell_type": "markdown",
   "id": "90f495c8-03d0-4afe-925e-a21e24745d70",
   "metadata": {},
   "source": [
    "## 4.3. Análise de tendências e sazonalidade da qualidade do ar no Brasil"
   ]
  },
  {
   "cell_type": "markdown",
   "id": "b0f5fb70-fb03-46aa-b80d-19b303868e65",
   "metadata": {},
   "source": [
    "        Tabela com estatísticas da população exposta para cada padrão de qualidade do ar por estado\n",
    "\n",
    "        Tabela iterativa por estação de monitoramento e cidade\n",
    "\n",
    "        Figura com estação de monitoramento que viola cada um dos padrões. Demonstrar buffer e população atingida/setores sensitários."
   ]
  },
  {
   "cell_type": "code",
   "execution_count": null,
   "id": "be7c8a11-68a9-4342-afda-80be07f8689c",
   "metadata": {},
   "outputs": [],
   "source": []
  }
 ],
 "metadata": {
  "kernelspec": {
   "display_name": "Python 3 (ipykernel)",
   "language": "python",
   "name": "python3"
  },
  "language_info": {
   "codemirror_mode": {
    "name": "ipython",
    "version": 3
   },
   "file_extension": ".py",
   "mimetype": "text/x-python",
   "name": "python",
   "nbconvert_exporter": "python",
   "pygments_lexer": "ipython3",
   "version": "3.13.5"
  }
 },
 "nbformat": 4,
 "nbformat_minor": 5
}