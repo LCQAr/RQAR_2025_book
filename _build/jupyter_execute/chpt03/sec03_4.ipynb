{
 "cells": [
  {
   "cell_type": "markdown",
   "id": "6302c1f5-d62f-4d0f-9132-4f6360a7ef4b",
   "metadata": {},
   "source": [
    "## 3.4. Cobertura do monitoramento da qualidade do ar\n",
    "\n",
    "TEXTO DE ABERTURA"
   ]
  },
  {
   "cell_type": "markdown",
   "id": "420010c5-ae2f-46e2-a580-8637acc34d85",
   "metadata": {},
   "source": [
    "### 3.4.1. Representatividade espacial das estações"
   ]
  },
  {
   "cell_type": "markdown",
   "id": "fe61da8d-daca-4093-b47c-e4b177d0e395",
   "metadata": {},
   "source": [
    "            Tabela 11 – Cobertura das redes de monitoramento da qualidade do ar no Brasil considerando a área total do país e a\n",
    "                área urbana. Análise realizada utilizando dados do IBGE (IBGE, 2019; IBGE, 2022\n",
    "    \n",
    "            Tabela 12 – Cobertura das redes de monitoramento da qualidade do ar nas UFs brasileiras considerando a área total e\n",
    "                urbana de cada UF. Análise realizada utilizando dados do IBGE (2019; 2022a)   \n",
    "    \n",
    "            Figura 7 – Percentual de cobertura das redes de monitoramento da qualidade do ar (ativas) nas UFs brasileiras\n",
    "                considerando a área urbana. Análise realizada utilizando dados do IBGE (IBGE, 2019; IBGE, 2022a)"
   ]
  },
  {
   "cell_type": "markdown",
   "id": "7ecacea9-4a46-4518-9c47-bf84fb89e172",
   "metadata": {},
   "source": [
    "### 3.4.2. Usos do solo monitorados"
   ]
  },
  {
   "cell_type": "markdown",
   "id": "ce60274f-4bcf-4a7d-831e-3bf3263e514a",
   "metadata": {},
   "source": [
    "            Figura 8 – a) Distribuição espacial das UFs no Brasil. b) Distribuição das estações de monitoramento e uso predominante\n",
    "                do solo no entorno, considerando um raio de 1km. Classificação do uso do solo conforme projeto MapBiomas (2023)\n",
    "            \n",
    "            Tabela 14 – Número de estações e uso do solo predominante em um raio de 1 km. Classificação do uso\n",
    "                do solo e dados do projeto MapBiomas (2023)\n",
    "\n",
    "            Figura 9 –Percentual dos usos do solo em um raio de 5km ao redor das estações onde o monitoramento da qualidade\n",
    "                do ar foi considerado representativo no espaço. Classificação do uso do solo conforme projeto MapBiomas (2023)."
   ]
  },
  {
   "cell_type": "markdown",
   "id": "66a2c04b-7edb-4adf-907e-40d4ad4da2b1",
   "metadata": {},
   "source": [
    "### 3.4.3. Cobertura populacional"
   ]
  },
  {
   "cell_type": "markdown",
   "id": "184dd7e5-4c06-4753-8960-53e485575cf3",
   "metadata": {},
   "source": [
    "\n",
    "            Tabela 13 – Estimativa da população atendida pelo monitoramento da qualidade do ar de referência (ou equivalente) e\n",
    "                indicativo em cada UF. Análise realizada utilizando dados do IBGE (2019; 2022a; 2022b).\n"
   ]
  },
  {
   "cell_type": "code",
   "execution_count": null,
   "id": "a765ecaa-ed9f-4458-8ab6-f15c1dc89038",
   "metadata": {},
   "outputs": [],
   "source": []
  }
 ],
 "metadata": {
  "kernelspec": {
   "display_name": "Python 3 (ipykernel)",
   "language": "python",
   "name": "python3"
  },
  "language_info": {
   "codemirror_mode": {
    "name": "ipython",
    "version": 3
   },
   "file_extension": ".py",
   "mimetype": "text/x-python",
   "name": "python",
   "nbconvert_exporter": "python",
   "pygments_lexer": "ipython3",
   "version": "3.13.5"
  }
 },
 "nbformat": 4,
 "nbformat_minor": 5
}