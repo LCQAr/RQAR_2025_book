{
 "cells": [
  {
   "cell_type": "markdown",
   "id": "3f230719-27b5-441b-b940-ae361b1e36d7",
   "metadata": {},
   "source": [
    "# Introdução\n",
    "\n",
    "...\n",
    "\n",
    "# Organização\n",
    "\n",
    "...\n",
    "\n",
    "## Importação de scripts\n",
    "\n",
    "Adicione seu script na pasta ```scripts```. Para importar dentro do seu notebook, faça da seguinte forma:\n",
    "\n",
    "```python\n",
    "from scripts import meupacote\n",
    "```\n",
    "\n",
    "Onde \"meupacote\" é o nome do seu arquivo de script (algo como meupacote.py). Se quiser importar somente algo dentro do seu script (como um método ou uma classe), use a forma abaixo:\n",
    "\n",
    "```python\n",
    "from scripts.meupacote import minhafuncao\n",
    "```"
   ]
  },
  {
   "cell_type": "code",
   "execution_count": null,
   "id": "07e39975-e0e7-452d-ad81-c485f94ac7dc",
   "metadata": {},
   "outputs": [],
   "source": []
  }
 ],
 "metadata": {
  "kernelspec": {
   "display_name": "Python 3 (ipykernel)",
   "language": "python",
   "name": "python3"
  },
  "language_info": {
   "codemirror_mode": {
    "name": "ipython",
    "version": 3
   },
   "file_extension": ".py",
   "mimetype": "text/x-python",
   "name": "python",
   "nbconvert_exporter": "python",
   "pygments_lexer": "ipython3",
   "version": "3.13.5"
  }
 },
 "nbformat": 4,
 "nbformat_minor": 5
}
