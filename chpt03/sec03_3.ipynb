{
 "cells": [
  {
   "cell_type": "markdown",
   "id": "8f3200ea-e373-439e-a9ea-801c0ff49e4e",
   "metadata": {
    "editable": true,
    "slideshow": {
     "slide_type": ""
    },
    "tags": []
   },
   "source": [
    "## 3.3. Finalidade do monitoramento\n"
   ]
  },
  {
   "cell_type": "markdown",
   "id": "8f821255-fae1-495b-972e-bae532051cee",
   "metadata": {
    "editable": true,
    "slideshow": {
     "slide_type": ""
    },
    "tags": []
   },
   "source": [
    "$$\n",
    "  \\int_0^\\infty \\frac{x^3}{e^x-1}\\,dx = \\frac{\\pi^4}{15}\n",
    "$$"
   ]
  },
  {
   "cell_type": "markdown",
   "id": "34ae26df-c22f-4214-a3ad-708554f83f0d",
   "metadata": {
    "editable": true,
    "slideshow": {
     "slide_type": ""
    },
    "tags": []
   },
   "source": [
    "```{note}\n",
    "Here is a note\n",
    "```\n",
    "\n",
    "```{warning}\n",
    "Here is a warning\n",
    "```\n",
    "\n",
    "```{important}\n",
    "Here is a important\n",
    "```\n",
    "\n",
    "```{caution}\n",
    "Here is a caution\n",
    "```\n",
    "\n",
    "```{tip}\n",
    "Here is a tip\n",
    "```"
   ]
  },
  {
   "cell_type": "markdown",
   "id": "d82f4a59-e6c6-4420-9045-3e4a05c7c005",
   "metadata": {
    "editable": true,
    "slideshow": {
     "slide_type": ""
    },
    "tags": []
   },
   "source": [
    "And here is a code block:\n",
    "\n",
    "```\n",
    "e = mc^2\n",
    "```\n",
    "\n",
    "Check out the content pages bundled with this sample book to see more."
   ]
  },
  {
   "cell_type": "markdown",
   "id": "f9a90689-967c-4dd3-8643-7d08d7de86aa",
   "metadata": {
    "editable": true,
    "slideshow": {
     "slide_type": ""
    },
    "tags": []
   },
   "source": [
    "````{tab-set}\n",
    "```{tab-item} Tab 1 title\n",
    "My first tab\n",
    "```\n",
    "\n",
    "```{tab-item} Tab 2 title\n",
    "My second tab with `some code`!\n",
    "```\n",
    "````"
   ]
  },
  {
   "cell_type": "markdown",
   "id": "ab995849-28a7-41bd-b9ce-dd03c701d2ce",
   "metadata": {
    "editable": true,
    "slideshow": {
     "slide_type": ""
    },
    "tags": []
   },
   "source": [
    "### 3.4.2\tUsos do solo monitorados\n"
   ]
  },
  {
   "cell_type": "code",
   "execution_count": 1,
   "id": "15ff4863-006d-422e-9d0c-b88fbf57c879",
   "metadata": {
    "editable": true,
    "slideshow": {
     "slide_type": ""
    },
    "tags": []
   },
   "outputs": [
    {
     "ename": "ModuleNotFoundError",
     "evalue": "No module named 'scripts'",
     "output_type": "error",
     "traceback": [
      "\u001b[31m---------------------------------------------------------------------------\u001b[39m",
      "\u001b[31mModuleNotFoundError\u001b[39m                       Traceback (most recent call last)",
      "\u001b[36mCell\u001b[39m\u001b[36m \u001b[39m\u001b[32mIn[1]\u001b[39m\u001b[32m, line 2\u001b[39m\n\u001b[32m      1\u001b[39m \u001b[38;5;28;01mimport\u001b[39;00m\u001b[38;5;250m \u001b[39m\u001b[34;01mos\u001b[39;00m\n\u001b[32m----> \u001b[39m\u001b[32m2\u001b[39m \u001b[38;5;28;01mimport\u001b[39;00m\u001b[38;5;250m \u001b[39m\u001b[34;01mscripts\u001b[39;00m\u001b[34;01m.\u001b[39;00m\u001b[34;01mstationsLandUse\u001b[39;00m\u001b[38;5;250m \u001b[39m\u001b[38;5;28;01mas\u001b[39;00m\u001b[38;5;250m \u001b[39m\u001b[34;01mstLU\u001b[39;00m\n\u001b[32m      4\u001b[39m rootDir = os.getcwd()\n\u001b[32m      5\u001b[39m file = \u001b[33m'\u001b[39m\u001b[33mMonitoramento_QAr_BR_latlon_2024.csv\u001b[39m\u001b[33m'\u001b[39m\n",
      "\u001b[31mModuleNotFoundError\u001b[39m: No module named 'scripts'"
     ]
    }
   ],
   "source": [
    "import os\n",
    "import scripts.stationsLandUse as stLU\n",
    "\n",
    "rootDir = os.getcwd()\n",
    "file = 'Monitoramento_QAr_BR_latlon_2024.csv'\n",
    "bufferSize = 1000\n",
    "gdf = stLU.stationBuffers(rootDir,file,bufferSize)\n",
    "gdf.head()"
   ]
  },
  {
   "cell_type": "code",
   "execution_count": null,
   "id": "703b1e7c-67f9-4e63-9846-f023e8871840",
   "metadata": {
    "editable": true,
    "scrolled": true,
    "slideshow": {
     "slide_type": ""
    },
    "tags": []
   },
   "outputs": [],
   "source": [
    "import matplotlib.pyplot as plt\n",
    "import contextily as cx\n",
    "\n",
    "fig, ax = plt.subplots()\n",
    "gdf.to_crs('epsg:3857').plot(ax=ax)\n",
    "cx.add_basemap(ax)"
   ]
  },
  {
   "cell_type": "code",
   "execution_count": null,
   "id": "8f6c5aa0-b5e5-4a40-ba5f-4108e01dd5e5",
   "metadata": {
    "editable": true,
    "slideshow": {
     "slide_type": "notes"
    },
    "tags": []
   },
   "outputs": [],
   "source": [
    "gdf.to_crs('epsg:3857').explore()"
   ]
  },
  {
   "cell_type": "markdown",
   "id": "8b3bd2f8-31da-45d2-ae6f-98a02b5df268",
   "metadata": {
    "editable": true,
    "slideshow": {
     "slide_type": ""
    },
    "tags": []
   },
   "source": [
    "### 3.4.3\tCobertura populacional"
   ]
  }
 ],
 "metadata": {
  "kernelspec": {
   "display_name": "Python 3 (ipykernel)",
   "language": "python",
   "name": "python3"
  },
  "language_info": {
   "codemirror_mode": {
    "name": "ipython",
    "version": 3
   },
   "file_extension": ".py",
   "mimetype": "text/x-python",
   "name": "python",
   "nbconvert_exporter": "python",
   "pygments_lexer": "ipython3",
   "version": "3.13.5"
  }
 },
 "nbformat": 4,
 "nbformat_minor": 5
}
