{
 "cells": [
  {
   "cell_type": "markdown",
   "id": "66a2c04b-7edb-4adf-907e-40d4ad4da2b1",
   "metadata": {},
   "source": [
    "### 3.6.4. Cobertura populacional - ROBSON"
   ]
  },
  {
   "cell_type": "markdown",
   "id": "184dd7e5-4c06-4753-8960-53e485575cf3",
   "metadata": {},
   "source": [
    "\n",
    "            Tabela 13 – Estimativa da população atendida pelo monitoramento da qualidade do ar de referência (ou equivalente) e\n",
    "                indicativo em cada UF. Análise realizada utilizando dados do IBGE (2019; 2022a; 2022b).\n"
   ]
  },
  {
   "cell_type": "markdown",
   "id": "772f4c20-99da-4760-9984-6435eb7c264c",
   "metadata": {},
   "source": [
    "\n",
    "\n"
   ]
  },
  {
   "cell_type": "markdown",
   "id": "6e131e18-34e3-46f0-bb6b-46655d2439fe",
   "metadata": {},
   "source": [
    "\n"
   ]
  },
  {
   "cell_type": "code",
   "execution_count": null,
   "id": "4a7962e8-3d4a-4cd1-8615-219a1238c538",
   "metadata": {},
   "outputs": [],
   "source": []
  }
 ],
 "metadata": {
  "kernelspec": {
   "display_name": "Python 3 (ipykernel)",
   "language": "python",
   "name": "python3"
  },
  "language_info": {
   "codemirror_mode": {
    "name": "ipython",
    "version": 3
   },
   "file_extension": ".py",
   "mimetype": "text/x-python",
   "name": "python",
   "nbconvert_exporter": "python",
   "pygments_lexer": "ipython3",
   "version": "3.13.5"
  }
 },
 "nbformat": 4,
 "nbformat_minor": 5
}
