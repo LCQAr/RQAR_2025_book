{
 "cells": [
  {
   "cell_type": "markdown",
   "id": "66a2c04b-7edb-4adf-907e-40d4ad4da2b1",
   "metadata": {},
   "source": [
    "### 3.6.4. Cobertura populacional"
   ]
  },
  {
   "cell_type": "markdown",
   "id": "184dd7e5-4c06-4753-8960-53e485575cf3",
   "metadata": {},
   "source": [
    "\n",
    "            Tabela 13 – Estimativa da população atendida pelo monitoramento da qualidade do ar de referência (ou equivalente) e\n",
    "                indicativo em cada UF. Análise realizada utilizando dados do IBGE (2019; 2022a; 2022b).\n"
   ]
  },
  {
   "cell_type": "code",
   "execution_count": null,
   "id": "a765ecaa-ed9f-4458-8ab6-f15c1dc89038",
   "metadata": {},
   "outputs": [],
   "source": []
  }
 ],
 "metadata": {
  "kernelspec": {
   "display_name": "Python 3 (ipykernel)",
   "language": "python",
   "name": "python3"
  },
  "language_info": {
   "codemirror_mode": {
    "name": "ipython",
    "version": 3
   },
   "file_extension": ".py",
   "mimetype": "text/x-python",
   "name": "python",
   "nbconvert_exporter": "python",
   "pygments_lexer": "ipython3",
   "version": "3.13.5"
  }
 },
 "nbformat": 4,
 "nbformat_minor": 5
}
