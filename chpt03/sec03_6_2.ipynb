{
 "cells": [
  {
   "cell_type": "markdown",
   "id": "d2e8ff69-e1da-4f40-ab4d-669b1faa295e",
   "metadata": {},
   "source": [
    "### 3.6.2. Representatividade temporal - JOŚE, MARIANA, JÚLIA E CLARISSA - FILTRO DOS DADOS TB"
   ]
  },
  {
   "cell_type": "markdown",
   "id": "0e369410-a2ba-4446-8685-b48d9bc1d4cb",
   "metadata": {},
   "source": [
    "        Completude\n",
    "\n",
    "        Representatividade - dias, meses e anos representativos\n",
    "\n",
    "        Quadro 7 - Tempo mínimo de amostragem para que os dados obtidos sejam considerados representativos.\n",
    "        https://www.gov.br/mma/pt-br/assuntos/meio-ambiente-urbano-recursos-hidricos-qualidade-ambiental/qualidade-do-ar/guia-tecnico-para-o-monitoramento-e-avaliacao-da-qualidade-do-ar.pdf"
   ]
  },
  {
   "cell_type": "code",
   "execution_count": null,
   "id": "48ff280a-9c7e-47b4-9010-ebe3fd25b694",
   "metadata": {},
   "outputs": [],
   "source": []
  }
 ],
 "metadata": {
  "kernelspec": {
   "display_name": "Python 3 (ipykernel)",
   "language": "python",
   "name": "python3"
  },
  "language_info": {
   "codemirror_mode": {
    "name": "ipython",
    "version": 3
   },
   "file_extension": ".py",
   "mimetype": "text/x-python",
   "name": "python",
   "nbconvert_exporter": "python",
   "pygments_lexer": "ipython3",
   "version": "3.13.5"
  }
 },
 "nbformat": 4,
 "nbformat_minor": 5
}
