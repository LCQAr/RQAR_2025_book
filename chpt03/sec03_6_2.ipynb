{
 "cells": [
  {
   "cell_type": "markdown",
   "id": "d2e8ff69-e1da-4f40-ab4d-669b1faa295e",
   "metadata": {},
   "source": [
    "### 3.6.2. Representatividade temporal"
   ]
  },
  {
   "cell_type": "markdown",
   "id": "0e369410-a2ba-4446-8685-b48d9bc1d4cb",
   "metadata": {},
   "source": [
    "        Completude\n",
    "\n",
    "        Representatividade - dias, meses e anos representativos"
   ]
  }
 ],
 "metadata": {
  "kernelspec": {
   "display_name": "Python 3 (ipykernel)",
   "language": "python",
   "name": "python3"
  },
  "language_info": {
   "codemirror_mode": {
    "name": "ipython",
    "version": 3
   },
   "file_extension": ".py",
   "mimetype": "text/x-python",
   "name": "python",
   "nbconvert_exporter": "python",
   "pygments_lexer": "ipython3",
   "version": "3.13.5"
  }
 },
 "nbformat": 4,
 "nbformat_minor": 5
}
