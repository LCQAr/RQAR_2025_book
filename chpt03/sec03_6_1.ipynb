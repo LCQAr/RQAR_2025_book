{
 "cells": [
  {
   "cell_type": "markdown",
   "id": "420010c5-ae2f-46e2-a580-8637acc34d85",
   "metadata": {},
   "source": [
    "### 3.6.1. Representatividade espacial das estações"
   ]
  },
  {
   "cell_type": "markdown",
   "id": "fe61da8d-daca-4093-b47c-e4b177d0e395",
   "metadata": {},
   "source": [
    "            Tabela 11 – Cobertura das redes de monitoramento da qualidade do ar no Brasil considerando a área total do país e a\n",
    "                área urbana. Análise realizada utilizando dados do IBGE (IBGE, 2019; IBGE, 2022\n",
    "    \n",
    "            Tabela 12 – Cobertura das redes de monitoramento da qualidade do ar nas UFs brasileiras considerando a área total e\n",
    "                urbana de cada UF. Análise realizada utilizando dados do IBGE (2019; 2022a)   \n",
    "    \n",
    "            Figura 7 – Percentual de cobertura das redes de monitoramento da qualidade do ar (ativas) nas UFs brasileiras\n",
    "                considerando a área urbana. Análise realizada utilizando dados do IBGE (IBGE, 2019; IBGE, 2022a)"
   ]
  },
  {
   "cell_type": "code",
   "execution_count": null,
   "id": "a765ecaa-ed9f-4458-8ab6-f15c1dc89038",
   "metadata": {},
   "outputs": [],
   "source": []
  }
 ],
 "metadata": {
  "kernelspec": {
   "display_name": "Python 3 (ipykernel)",
   "language": "python",
   "name": "python3"
  },
  "language_info": {
   "codemirror_mode": {
    "name": "ipython",
    "version": 3
   },
   "file_extension": ".py",
   "mimetype": "text/x-python",
   "name": "python",
   "nbconvert_exporter": "python",
   "pygments_lexer": "ipython3",
   "version": "3.13.5"
  }
 },
 "nbformat": 4,
 "nbformat_minor": 5
}
