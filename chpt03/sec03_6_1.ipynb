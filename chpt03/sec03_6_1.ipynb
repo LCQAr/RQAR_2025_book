{
 "cells": [
  {
   "cell_type": "markdown",
   "id": "420010c5-ae2f-46e2-a580-8637acc34d85",
   "metadata": {},
   "source": [
    "### 3.6.1. Representatividade espacial das estações - BRUNO E MARCOS"
   ]
  },
  {
   "cell_type": "markdown",
   "id": "fe61da8d-daca-4093-b47c-e4b177d0e395",
   "metadata": {},
   "source": [
    "            Tabela 11 – Cobertura das redes de monitoramento da qualidade do ar no Brasil considerando a área total do país e a\n",
    "                área urbana. Análise realizada utilizando dados do IBGE (IBGE, 2019; IBGE, 2022\n",
    "    \n",
    "            Tabela 12 – Cobertura das redes de monitoramento da qualidade do ar nas UFs brasileiras considerando a área total e\n",
    "                urbana de cada UF. Análise realizada utilizando dados do IBGE (2019; 2022a)   \n",
    "    \n",
    "            Figura 7 – Percentual de cobertura das redes de monitoramento da qualidade do ar (ativas) nas UFs brasileiras\n",
    "\n",
    "                considerando a área urbana. Análise realizada utilizando dados do IBGE (IBGE, 2019; IBGE, 2022a)"
   ]
  },
  {
   "cell_type": "markdown",
   "id": "40c391ac-0229-45b9-b497-a8496e214b96",
   "metadata": {},
   "source": [
    "\n",
    "**VEICULARES**\n",
    "\n",
    "* Baixar dados do geofabrik\n",
    "\n",
    "https://download.geofabrik.de/south-america/brazil.html\n",
    "\n",
    "* Usar planilha RQAR_2025_book/data/Monitoramento_Qar_BR_teste.csv\n",
    "* Determinar menor distância entre ponto de monitoramento e via com Quadro 2 – Posicionamento de monitores de material particulado em relação às vias de tráfego.\n",
    "  https://www.gov.br/mma/pt-br/assuntos/meio-ambiente-urbano-recursos-hidricos-qualidade-ambiental/qualidade-do-ar/guia-tecnico-para-o-monitoramento-e-avaliacao-da-qualidade-do-ar.pdf\n",
    "\n",
    "**INDÚSTRIAS**\n",
    "* Determinar distância entre ponto de monitoramento e indústrias utilizando dado que o Fábio possui\n",
    "\n",
    "**CLASSIFICAÇÃO**\n",
    "\n",
    "  https://www.gov.br/mma/pt-br/assuntos/meio-ambiente-urbano-recursos-hidricos-qualidade-ambiental/qualidade-do-ar/guia-tecnico-para-o-monitoramento-e-avaliacao-da-qualidade-do-ar.pdf\n",
    "\n"
   ]
  },
  {
   "cell_type": "markdown",
   "id": "9b1bb3f3-0a7e-4b60-a8d1-7ddcbeba817d",
   "metadata": {},
   "source": [
    "**Determinar altura do ponto de medição utilizando dados do SRTM**   marcos\n",
    "utilizar dados baixados do SRTM no servidor Artaxo"
   ]
  },
  {
   "cell_type": "code",
   "execution_count": null,
   "id": "2bd7c72a-98f3-46d7-9c4b-4bf1d52faf17",
   "metadata": {},
   "outputs": [],
   "source": []
  }
 ],
 "metadata": {
  "kernelspec": {
   "display_name": "Python 3 (ipykernel)",
   "language": "python",
   "name": "python3"
  },
  "language_info": {
   "codemirror_mode": {
    "name": "ipython",
    "version": 3
   },
   "file_extension": ".py",
   "mimetype": "text/x-python",
   "name": "python",
   "nbconvert_exporter": "python",
   "pygments_lexer": "ipython3",
   "version": "3.13.5"
  }
 },
 "nbformat": 4,
 "nbformat_minor": 5
}
