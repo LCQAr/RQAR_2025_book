{
 "cells": [
  {
   "cell_type": "markdown",
   "id": "7ecacea9-4a46-4518-9c47-bf84fb89e172",
   "metadata": {},
   "source": [
    "### 3.6.3. Usos do solo monitorados"
   ]
  },
  {
   "cell_type": "markdown",
   "id": "ce60274f-4bcf-4a7d-831e-3bf3263e514a",
   "metadata": {},
   "source": [
    "            Figura 8 – a) Distribuição espacial das UFs no Brasil. b) Distribuição das estações de monitoramento e uso predominante\n",
    "                do solo no entorno, considerando um raio de 1km. Classificação do uso do solo conforme projeto MapBiomas (2023)\n",
    "            \n",
    "            Tabela 14 – Número de estações e uso do solo predominante em um raio de 1 km. Classificação do uso\n",
    "                do solo e dados do projeto MapBiomas (2023)\n",
    "\n",
    "            Figura 9 –Percentual dos usos do solo em um raio de 5km ao redor das estações onde o monitoramento da qualidade\n",
    "                do ar foi considerado representativo no espaço. Classificação do uso do solo conforme projeto MapBiomas (2023)."
   ]
  },
  {
   "cell_type": "code",
   "execution_count": null,
   "id": "a765ecaa-ed9f-4458-8ab6-f15c1dc89038",
   "metadata": {},
   "outputs": [],
   "source": []
  }
 ],
 "metadata": {
  "kernelspec": {
   "display_name": "Python 3 (ipykernel)",
   "language": "python",
   "name": "python3"
  },
  "language_info": {
   "codemirror_mode": {
    "name": "ipython",
    "version": 3
   },
   "file_extension": ".py",
   "mimetype": "text/x-python",
   "name": "python",
   "nbconvert_exporter": "python",
   "pygments_lexer": "ipython3",
   "version": "3.13.5"
  }
 },
 "nbformat": 4,
 "nbformat_minor": 5
}
