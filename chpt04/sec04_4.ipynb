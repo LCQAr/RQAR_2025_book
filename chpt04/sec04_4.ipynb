{
 "cells": [
  {
   "cell_type": "markdown",
   "id": "90f495c8-03d0-4afe-925e-a21e24745d70",
   "metadata": {},
   "source": [
    "#### 4.4.\tDesignação de áreas de atendimento e não atendimento dos padrões de qualidade do ar - CAMILO"
   ]
  },
  {
   "cell_type": "markdown",
   "id": "7141dc83-bc60-4d35-9747-e677ea12efaf",
   "metadata": {},
   "source": [
    "        Figura das Cidades que não atendem, atendem e não classificadas. Folium\n",
    "\n",
    "        Figura com classificação de acordo com o atendimento de cada padrão da CONAMA. Folium\n",
    "    \n",
    "        Tabela com estatísticas acima. Tabela iterativa com filtro"
   ]
  },
  {
   "cell_type": "code",
   "execution_count": null,
   "id": "36bf4b3b-7a02-46fc-aa5c-bd93a99eb4a9",
   "metadata": {},
   "outputs": [],
   "source": []
  }
 ],
 "metadata": {
  "kernelspec": {
   "display_name": "Python 3 (ipykernel)",
   "language": "python",
   "name": "python3"
  },
  "language_info": {
   "codemirror_mode": {
    "name": "ipython",
    "version": 3
   },
   "file_extension": ".py",
   "mimetype": "text/x-python",
   "name": "python",
   "nbconvert_exporter": "python",
   "pygments_lexer": "ipython3",
   "version": "3.13.5"
  }
 },
 "nbformat": 4,
 "nbformat_minor": 5
}
