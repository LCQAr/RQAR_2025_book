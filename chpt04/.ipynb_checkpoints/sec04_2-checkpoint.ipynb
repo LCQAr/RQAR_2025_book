{
 "cells": [
  {
   "cell_type": "markdown",
   "id": "34ae26df-c22f-4214-a3ad-708554f83f0d",
   "metadata": {
    "editable": true,
    "slideshow": {
     "slide_type": ""
    },
    "tags": []
   },
   "source": [
    "```{note}\n",
    "Here is a note\n",
    "```\n",
    "\n",
    "```{warning}\n",
    "Here is a warning\n",
    "```\n",
    "\n",
    "```{important}\n",
    "Here is a important\n",
    "```\n",
    "\n",
    "```{caution}\n",
    "Here is a caution\n",
    "```\n",
    "\n",
    "```{tip}\n",
    "Here is a tip\n",
    "```"
   ]
  },
  {
   "cell_type": "markdown",
   "id": "90f495c8-03d0-4afe-925e-a21e24745d70",
   "metadata": {},
   "source": [
    "# 4\tQualidade do Ar no Brasil\n",
    "## 4.1\tViolações dos padrões de qualidade ar no Brasil\n",
    "## 4.1.1\tMaterial Particulado\n",
    "### 4.1.2\tOzônio – O3\n",
    "### 4.1.3\tDióxido de Nitrogênio – NO2\n",
    "### 4.1.4\tMonóxido de Carbono – CO\n",
    "### 4.1.5\tDióxido de Enxofre – SO2\n",
    "### 4.1.6\tOutros Poluentes\n",
    "## 4.2\tDesignação de áreas de atendimento e não atendimento dos padrões de qualidade do ar\n",
    "## 4.3\tAnálise de tendências e sazonalidade da qualidade do ar no Brasil\n",
    "## 4.4\tSíntese das observações da qualidade do ar por região\n",
    "## 4.5\tInterface com saúde  ANO QUE VEM – metodologia GARSC\n",
    "## 5\tPerspectivas de ampliação da rede e medidas de gestão das fontes de poluição\n"
   ]
  },
  {
   "cell_type": "code",
   "execution_count": null,
   "id": "4eb2895f-17ac-4c60-ad1b-c95ee1740a7e",
   "metadata": {},
   "outputs": [],
   "source": []
  }
 ],
 "metadata": {
  "kernelspec": {
   "display_name": "Python 3 (ipykernel)",
   "language": "python",
   "name": "python3"
  },
  "language_info": {
   "codemirror_mode": {
    "name": "ipython",
    "version": 3
   },
   "file_extension": ".py",
   "mimetype": "text/x-python",
   "name": "python",
   "nbconvert_exporter": "python",
   "pygments_lexer": "ipython3",
   "version": "3.13.5"
  }
 },
 "nbformat": 4,
 "nbformat_minor": 5
}
