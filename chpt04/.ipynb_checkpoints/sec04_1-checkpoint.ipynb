{
 "cells": [
  {
   "cell_type": "markdown",
   "id": "90f495c8-03d0-4afe-925e-a21e24745d70",
   "metadata": {},
   "source": [
    "## 4.1.\tViolações dos padrões de qualidade ar no Brasil\n",
    "\n"
   ]
  },
  {
   "cell_type": "markdown",
   "id": "d1dea532-17f1-4f0b-b9a5-05f94d3352b4",
   "metadata": {},
   "source": [
    "### 4.1.1\tSéries temporais das estações de monitoramento\n"
   ]
  },
  {
   "cell_type": "markdown",
   "id": "109ba38d-7698-4cfe-9228-a02623a7b2f6",
   "metadata": {},
   "source": [
    "### 4.1.2\tEstatísticas das estações de monitoramento \n"
   ]
  },
  {
   "cell_type": "markdown",
   "id": "34ae26df-c22f-4214-a3ad-708554f83f0d",
   "metadata": {
    "editable": true,
    "slideshow": {
     "slide_type": ""
    },
    "tags": []
   },
   "source": [
    "```{note}\n",
    "Here is a note\n",
    "```\n",
    "\n",
    "```{warning}\n",
    "Here is a warning\n",
    "```\n",
    "\n",
    "```{important}\n",
    "Here is a important\n",
    "```\n",
    "\n",
    "```{caution}\n",
    "Here is a caution\n",
    "```\n",
    "\n",
    "```{tip}\n",
    "Here is a tip\n",
    "```"
   ]
  },
  {
   "cell_type": "code",
   "execution_count": null,
   "id": "4eb2895f-17ac-4c60-ad1b-c95ee1740a7e",
   "metadata": {},
   "outputs": [],
   "source": []
  }
 ],
 "metadata": {
  "kernelspec": {
   "display_name": "Python 3 (ipykernel)",
   "language": "python",
   "name": "python3"
  },
  "language_info": {
   "codemirror_mode": {
    "name": "ipython",
    "version": 3
   },
   "file_extension": ".py",
   "mimetype": "text/x-python",
   "name": "python",
   "nbconvert_exporter": "python",
   "pygments_lexer": "ipython3",
   "version": "3.13.5"
  }
 },
 "nbformat": 4,
 "nbformat_minor": 5
}
