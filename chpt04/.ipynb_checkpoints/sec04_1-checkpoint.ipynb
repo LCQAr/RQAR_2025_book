{
 "cells": [
  {
   "cell_type": "markdown",
   "id": "90f495c8-03d0-4afe-925e-a21e24745d70",
   "metadata": {},
   "source": [
    "## 4.1.\tViolações dos padrões de qualidade ar no Brasil\n",
    "\n"
   ]
  },
  {
   "cell_type": "markdown",
   "id": "d1dea532-17f1-4f0b-b9a5-05f94d3352b4",
   "metadata": {},
   "source": [
    "### 4.1.1\tSéries temporais das estações de monitoramento\n"
   ]
  },
  {
   "cell_type": "markdown",
   "id": "68ae36aa-f0e0-4d91-9972-469201694156",
   "metadata": {},
   "source": [
    "**TENTAR FAZER UM DROPDOWN MENU PARA ESCOLHER QUAL SÉRIE TEMPORAL VISUALIZAR NO LIVRO. Colocar padrões da CONAMA**\n",
    "\n",
    "ou Figura 5 – Perfil temporal das médias diárias de a) MP10, b) MP2,5 e c) O3 nas estações Volta da Capela (Barra Longa – MG) e Vila Moema (Tubarão – SC) no ano de 2023.\n"
   ]
  },
  {
   "cell_type": "markdown",
   "id": "109ba38d-7698-4cfe-9228-a02623a7b2f6",
   "metadata": {},
   "source": [
    "### 4.1.2\tEstatísticas das estações de monitoramento \n"
   ]
  },
  {
   "cell_type": "markdown",
   "id": "0969ef8a-ea6a-4bc9-839d-a9a134ae5326",
   "metadata": {},
   "source": [
    "**TENTAR FAZER UMA TABELA ITERATIVA ONDE O USUÁRIO POSSA FILTRAR AS ESTAÇÕES E NÚMERO DE VIOLAÇÕES**  \n",
    "ou Tabela 10 – Ranqueamento das cinco estações com o maior número de violações dos Padrões de Qualidade do Ar de O 3, MP10, MP2,5 e SO2 no ano de 2023."
   ]
  },
  {
   "cell_type": "markdown",
   "id": "34ae26df-c22f-4214-a3ad-708554f83f0d",
   "metadata": {
    "editable": true,
    "slideshow": {
     "slide_type": ""
    },
    "tags": []
   },
   "source": [
    "```{note}\n",
    "Here is a note\n",
    "```\n",
    "\n",
    "```{warning}\n",
    "Here is a warning\n",
    "```\n",
    "\n",
    "```{important}\n",
    "Here is a important\n",
    "```\n",
    "\n",
    "```{caution}\n",
    "Here is a caution\n",
    "```\n",
    "\n",
    "```{tip}\n",
    "Here is a tip\n",
    "```"
   ]
  },
  {
   "cell_type": "markdown",
   "id": "c3dc4e05-0110-48a6-9afb-7064b008f8c8",
   "metadata": {},
   "source": [
    "```{code-cell} ipython3\n",
    ":thebe-init: true\n",
    ":thebe-use-button: true\n",
    "\n",
    "import os\n",
    "import pandas as pd\n",
    "import matplotlib.pyplot as plt\n",
    "import ipywidgets as widgets\n",
    "from IPython.display import display, clear_output\n",
    "\n",
    "rootPath = os.path.dirname(os.getcwd())\n",
    "data_folder = rootPath + '/data/MQAr'\n",
    "\n",
    "# List CSV files\n",
    "csv_files = [f for f in os.listdir(data_folder) if f.endswith('.csv')]\n",
    "\n",
    "# Widgets\n",
    "file_dropdown = widgets.Dropdown(\n",
    "    options=csv_files,\n",
    "    description='CSV:',\n",
    ")\n",
    "\n",
    "column_dropdown = widgets.Dropdown(\n",
    "    options=['VALOR'],\n",
    "    description='Column:'\n",
    ")\n",
    "\n",
    "date_column_input = widgets.Text(\n",
    "    value='date',\n",
    "    description='Date col:',\n",
    "    placeholder='Enter date column name'\n",
    ")\n",
    "\n",
    "output = widgets.Output()\n",
    "\n",
    "def update_column_dropdown(change):\n",
    "    try:\n",
    "        file_path = os.path.join(data_folder, file_dropdown.value)\n",
    "        df = pd.read_csv(file_path, encoding='utf-8')\n",
    "        column_dropdown.options = [col for col in df.columns if col != date_column_input.value]\n",
    "    except Exception as e:\n",
    "        column_dropdown.options = []\n",
    "        with output:\n",
    "            clear_output()\n",
    "            print(f\"Error reading file: {e}\")\n",
    "\n",
    "def plot_csv(file, column, date_col):\n",
    "    with output:\n",
    "        clear_output()\n",
    "        try:\n",
    "            file_path = os.path.join(data_folder, file)\n",
    "            df = pd.read_csv(file_path, encoding='utf-8')\n",
    "\n",
    "            df[date_col] = pd.to_datetime({\n",
    "                'year': df['ANO'],\n",
    "                'month': df['MES'],\n",
    "                'day': df['DIA'],\n",
    "                'hour': pd.to_datetime(df['HORA'], format='%H:%M:%S').dt.hour\n",
    "            })\n",
    "\n",
    "            df = df.dropna(subset=[date_col, column])\n",
    "            df = df.sort_values(date_col)\n",
    "\n",
    "            plt.figure(figsize=(10, 4))\n",
    "            plt.plot(df[date_col], df[column], marker='o', linestyle='-')\n",
    "            plt.xlabel(date_col)\n",
    "            plt.ylabel(column)\n",
    "            plt.title(f\"{column} over time\")\n",
    "            plt.grid(True)\n",
    "            plt.tight_layout()\n",
    "            plt.show()\n",
    "        except Exception as e:\n",
    "            print(f\"Error plotting: {e}\")\n",
    "\n",
    "file_dropdown.observe(update_column_dropdown, names='value')\n",
    "\n",
    "plot_button = widgets.Button(description=\"Plot\")\n",
    "plot_button.on_click(lambda b: plot_csv(file_dropdown.value, column_dropdown.value, date_column_input.value))\n",
    "\n",
    "ui = widgets.VBox([file_dropdown, date_column_input, column_dropdown, plot_button, output])\n",
    "display(ui)\n",
    "```\n"
   ]
  },
  {
   "cell_type": "code",
   "execution_count": null,
   "id": "7a496560-1408-44ba-87ee-95ae34dc9e5d",
   "metadata": {},
   "outputs": [],
   "source": []
  }
 ],
 "metadata": {
  "kernelspec": {
   "display_name": "Python 3 (ipykernel)",
   "language": "python",
   "name": "python3"
  },
  "language_info": {
   "codemirror_mode": {
    "name": "ipython",
    "version": 3
   },
   "file_extension": ".py",
   "mimetype": "text/x-python",
   "name": "python",
   "nbconvert_exporter": "python",
   "pygments_lexer": "ipython3",
   "version": "3.13.5"
  }
 },
 "nbformat": 4,
 "nbformat_minor": 5
}
