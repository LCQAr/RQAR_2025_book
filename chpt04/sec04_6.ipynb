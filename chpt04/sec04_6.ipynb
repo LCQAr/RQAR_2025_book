{
 "cells": [
  {
   "cell_type": "markdown",
   "id": "90f495c8-03d0-4afe-925e-a21e24745d70",
   "metadata": {},
   "source": [
    "## 4.6.\tInterface com saúde  ANO QUE VEM – metodologia GARSC - ROBSON"
   ]
  },
  {
   "cell_type": "markdown",
   "id": "f6cadbdc-431b-42f1-98ce-82362123c0ec",
   "metadata": {},
   "source": [
    "        Síntese por região - texto / tabela estática\n",
    "    \n",
    "        Interface com saúde  ANO QUE VEM – metodologia GARSC "
   ]
  },
  {
   "cell_type": "markdown",
   "id": "b1b7851f-2226-461e-990d-813285bb25d1",
   "metadata": {},
   "source": [
    "figura iterativa com nível de não atendimento conforme os Padrões da 506. Fazer buffer de representatividade e colocar população exposta"
   ]
  },
  {
   "cell_type": "code",
   "execution_count": null,
   "id": "48409f5c-80de-4161-b85f-22ca6c5845b5",
   "metadata": {},
   "outputs": [],
   "source": []
  }
 ],
 "metadata": {
  "kernelspec": {
   "display_name": "Python 3 (ipykernel)",
   "language": "python",
   "name": "python3"
  },
  "language_info": {
   "codemirror_mode": {
    "name": "ipython",
    "version": 3
   },
   "file_extension": ".py",
   "mimetype": "text/x-python",
   "name": "python",
   "nbconvert_exporter": "python",
   "pygments_lexer": "ipython3",
   "version": "3.13.5"
  }
 },
 "nbformat": 4,
 "nbformat_minor": 5
}
