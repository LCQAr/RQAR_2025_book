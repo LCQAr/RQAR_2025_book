{
 "cells": [
  {
   "cell_type": "markdown",
   "id": "8f3200ea-e373-439e-a9ea-801c0ff49e4e",
   "metadata": {
    "editable": true,
    "slideshow": {
     "slide_type": ""
    },
    "tags": []
   },
   "source": [
    "## 1.2. Origem dos dados\n",
    "\n",
    "<div style=\"text-align: justify\"> Foi realizada uma pesquisa nos endereços eletrônicos dos OEMAs (Orgãos Estaduais de Meio Ambiente), com o objetivo de verificar a disponibilidade de informações referentes à qualidade do ar, as características da rede de monitoramento e a publicação de dados, relatórios e planos.</div><br/>\n",
    "<div style=\"text-align: justify\"> Em paralelo, foi aplicado um questionário aos OEMAs das 27 unidades federativas (UFs) do Brasil, no período entre 26 de julho e 16 de agosto, visando obter as seguintes informações:\n",
    "    <ul>\n",
    "      <li>características da rede de monitoramento no estado, se houver;</li>\n",
    "      <li>modo de divulgação de dados de qualidade do ar, se houver;</li>\n",
    "      <li>interligação com o Sistema MonitorAr;</li>\n",
    "      <li>disponibilização dos dados de qualidade do ar para o ano de 2023;</li>\n",
    "      <li>elaboração e divulgação de Relatório de Avaliação de Qualidade do Ar;</li>\n",
    "      <li>elaboração e aplicação de Plano de Controle de Emissões Atmosféricas;</li>\n",
    "      <li>elaboração e disponibilização de Inventário de Emissões Atmosféricas.</li>\n",
    "    </ul>\n",
    "</div><br/>   \n",
    "<div style=\"text-align: justify\">O questionário foi preenchido por todos os OEMAs das UFs do Brasil, atingindo uma taxa de retorno de 100%.</div><br/>\n",
    "<div style=\"text-align: justify\">As informações obtidas por meio do questionário foram compiladas e, em alguns casos, complementadas com os dados disponíveis no Sistema Nacional de Gestão da Qualidade do Ar (MonitorAr). A Tabela 1 sintetiza a origem dos dados e as características do monitoramento da qualidade do ar nas UFs brasileiras. A Tabela 2 indica a origem dos dados utilizados para a avaliação da qualidade do ar no Brasil no ano de 2023, nas UFs que possuem monitoramento do ar sistemático.</div><br/>\n",
    "\n",
    "<div class=\"alert alert-block alert-warning\">\n",
    "   <b>⚠️ Alerta: </b> Alguns OEMAs informaram ter recebido os dados para o ano de 2023 somente mediante o envio de relatórios periódicos de empreendimentos licenciados que realizam o monitoramento, o que não permite o acesso aos dados em sua fonte. Nos casos em que os dados desses OEMAs estavam disponíveis no Sistema MonitorAr, estes foram utilizados.</p>\n",
    "</div>\n",
    "\n",
    "⚠️ Alguns OEMAs informaram ter recebido os dados para o ano de 2023 somente mediante o envio de relatórios periódicos de empreendimentos licenciados que realizam o monitoramento, o que não permite o acesso aos dados em sua fonte. Nos casos em que os dados desses OEMAs estavam disponíveis no Sistema MonitorAr, estes foram utilizados.\n",
    "\n",
    "ℹ️ This is an info message.\n",
    "\n",
    "⚠️ Consider this a warning.\n",
    "\n",
    "❌ This is a very serious danger message.\n",
    "\n",
    "✅ This is an affirmation message.\n",
    "\n",
    "\n",
    "<div style=\"text-align: justify\"></div><br/>\n",
    "\n",
    "<div style=\"text-align: justify\">Ainda, foram compiladas as informações sobre os Relatórios de Avaliação de Qualidade do Ar, Planos de Controle de Emissão Atmosférica e Inventários de Emissões Atmosféricas dos OEMAs. Essa compilação foi conduzida a partir das informações disponíveis nas páginas eletrônicas de cada OEMA e das respostas ao questionário aplicado pelo MMA. </div>\n",
    "\n"
   ]
  },
  {
   "cell_type": "markdown",
   "id": "27f54012-51e1-4a0a-b464-e9d8313ea20f",
   "metadata": {},
   "source": [
    "**Tabela 1 – Origem das informações sobre a realização de monitoramento da qualidade do ar pelos OEMAs.**"
   ]
  },
  {
   "cell_type": "markdown",
   "id": "92672e7e-895b-4fd3-9c4f-f2f9f9705e03",
   "metadata": {
    "editable": true,
    "slideshow": {
     "slide_type": ""
    },
    "tags": []
   },
   "source": [
    "```{code-cell} ipython3\n",
    ":tags: [hide-input]\n",
    "\n",
    "import scripts.flagTables as flagtab\n",
    "flagtab.table01()\n",
    "```\n"
   ]
  },
  {
   "cell_type": "markdown",
   "id": "2601ddf8-11ab-4e5a-b5b8-463575afa160",
   "metadata": {
    "editable": true,
    "slideshow": {
     "slide_type": ""
    },
    "tags": []
   },
   "source": [
    "```{warning}\n",
    "Os estados que não monitoram a qualidade do ar também responderam a Consulta 2024\n",
    "```"
   ]
  },
  {
   "cell_type": "markdown",
   "id": "f4efb171-7a82-4d71-a47d-948812654897",
   "metadata": {},
   "source": [
    "**Tabela 2 – Origem dos dados de monitoramento utilizados para avaliação da qualidade do ar no Brasil no ano de 2023.** NÃO SEI SE PRECISMOS DESTA\n",
    "\n"
   ]
  },
  {
   "cell_type": "code",
   "execution_count": null,
   "id": "51427cae-86a1-48e5-9a12-3669dcaa7777",
   "metadata": {},
   "outputs": [],
   "source": []
  }
 ],
 "metadata": {
  "kernelspec": {
   "display_name": "Python 3 (ipykernel)",
   "language": "python",
   "name": "python3"
  },
  "language_info": {
   "codemirror_mode": {
    "name": "ipython",
    "version": 3
   },
   "file_extension": ".py",
   "mimetype": "text/x-python",
   "name": "python",
   "nbconvert_exporter": "python",
   "pygments_lexer": "ipython3",
   "version": "3.13.5"
  }
 },
 "nbformat": 4,
 "nbformat_minor": 5
}
